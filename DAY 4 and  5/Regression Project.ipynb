{
 "cells": [
  {
   "cell_type": "code",
   "execution_count": 1,
   "metadata": {},
   "outputs": [],
   "source": [
    "import pandas as pd\n",
    "import missingno as msno\n",
    "import matplotlib.pyplot as plt\n",
    "import seaborn as sns\n",
    "import numpy as np\n",
    "import statsmodels.api as sm\n",
    "from sklearn.linear_model import LinearRegression\n",
    "from sklearn.metrics import mean_squared_error, r2_score\n",
    "from sklearn.preprocessing import PolynomialFeatures"
   ]
  },
  {
   "cell_type": "markdown",
   "metadata": {},
   "source": [
    "Project is about predicting insurance charges using independent variable (age, sex, bmi, number of children, smoking, region) <br>\n",
    "\n",
    "<b> Data description </b>\n",
    "\n",
    "Age is a real number<br>\n",
    "Sex binary varibale male and female <br>\n",
    "bmi (body mass index) is a real number <br>\n",
    "children is number of children a person has <br>\n",
    "smoker is a binary variable <br>\n",
    "region is class variable <br>\n",
    "charges is dependent varibale (y) <br>\n",
    "\n",
    "<b> 1st part is Data visualization part where relationships between independent and dependent variable is shown </b><br>\n",
    "<b> 2nd part is data transformation: The way to handle skewed data </b><br>\n",
    "<b> 3rd part is a difference between R square and Adjusted R square </b><br>\n",
    "<b> 4th part is Modeling </b><br>\n",
    "<b> 5th part is Check which for polynomial regression and fitting with right polynomial degree</b><br>"
   ]
  },
  {
   "cell_type": "code",
   "execution_count": 2,
   "metadata": {},
   "outputs": [],
   "source": [
    "df = pd.read_csv('D:/100_days_ml/DATA/insurance.csv')"
   ]
  },
  {
   "cell_type": "code",
   "execution_count": 3,
   "metadata": {},
   "outputs": [
    {
     "data": {
      "text/html": [
       "<div>\n",
       "<style scoped>\n",
       "    .dataframe tbody tr th:only-of-type {\n",
       "        vertical-align: middle;\n",
       "    }\n",
       "\n",
       "    .dataframe tbody tr th {\n",
       "        vertical-align: top;\n",
       "    }\n",
       "\n",
       "    .dataframe thead th {\n",
       "        text-align: right;\n",
       "    }\n",
       "</style>\n",
       "<table border=\"1\" class=\"dataframe\">\n",
       "  <thead>\n",
       "    <tr style=\"text-align: right;\">\n",
       "      <th></th>\n",
       "      <th>age</th>\n",
       "      <th>sex</th>\n",
       "      <th>bmi</th>\n",
       "      <th>children</th>\n",
       "      <th>smoker</th>\n",
       "      <th>region</th>\n",
       "      <th>charges</th>\n",
       "    </tr>\n",
       "  </thead>\n",
       "  <tbody>\n",
       "    <tr>\n",
       "      <th>0</th>\n",
       "      <td>19</td>\n",
       "      <td>female</td>\n",
       "      <td>27.900</td>\n",
       "      <td>0</td>\n",
       "      <td>yes</td>\n",
       "      <td>southwest</td>\n",
       "      <td>16884.92400</td>\n",
       "    </tr>\n",
       "    <tr>\n",
       "      <th>1</th>\n",
       "      <td>18</td>\n",
       "      <td>male</td>\n",
       "      <td>33.770</td>\n",
       "      <td>1</td>\n",
       "      <td>no</td>\n",
       "      <td>southeast</td>\n",
       "      <td>1725.55230</td>\n",
       "    </tr>\n",
       "    <tr>\n",
       "      <th>2</th>\n",
       "      <td>28</td>\n",
       "      <td>male</td>\n",
       "      <td>33.000</td>\n",
       "      <td>3</td>\n",
       "      <td>no</td>\n",
       "      <td>southeast</td>\n",
       "      <td>4449.46200</td>\n",
       "    </tr>\n",
       "    <tr>\n",
       "      <th>3</th>\n",
       "      <td>33</td>\n",
       "      <td>male</td>\n",
       "      <td>22.705</td>\n",
       "      <td>0</td>\n",
       "      <td>no</td>\n",
       "      <td>northwest</td>\n",
       "      <td>21984.47061</td>\n",
       "    </tr>\n",
       "    <tr>\n",
       "      <th>4</th>\n",
       "      <td>32</td>\n",
       "      <td>male</td>\n",
       "      <td>28.880</td>\n",
       "      <td>0</td>\n",
       "      <td>no</td>\n",
       "      <td>northwest</td>\n",
       "      <td>3866.85520</td>\n",
       "    </tr>\n",
       "  </tbody>\n",
       "</table>\n",
       "</div>"
      ],
      "text/plain": [
       "   age     sex     bmi  children smoker     region      charges\n",
       "0   19  female  27.900         0    yes  southwest  16884.92400\n",
       "1   18    male  33.770         1     no  southeast   1725.55230\n",
       "2   28    male  33.000         3     no  southeast   4449.46200\n",
       "3   33    male  22.705         0     no  northwest  21984.47061\n",
       "4   32    male  28.880         0     no  northwest   3866.85520"
      ]
     },
     "execution_count": 3,
     "metadata": {},
     "output_type": "execute_result"
    }
   ],
   "source": [
    "df.head()"
   ]
  },
  {
   "cell_type": "markdown",
   "metadata": {},
   "source": [
    "Checking NA values"
   ]
  },
  {
   "cell_type": "code",
   "execution_count": 4,
   "metadata": {},
   "outputs": [
    {
     "data": {
      "text/plain": [
       "<matplotlib.axes._subplots.AxesSubplot at 0x1ecdba7fb38>"
      ]
     },
     "execution_count": 4,
     "metadata": {},
     "output_type": "execute_result"
    },
    {
     "data": {
      "image/png": "[encoded data removed]",
      "text/plain": [
       "<Figure size 1800x720 with 2 Axes>"
      ]
     },
     "metadata": {
      "needs_background": "light"
     },
     "output_type": "display_data"
    }
   ],
   "source": [
    "msno.matrix(df) "
   ]
  },
  {
   "cell_type": "markdown",
   "metadata": {},
   "source": [
    "check for na values, No NA values."
   ]
  },
  {
   "cell_type": "code",
   "execution_count": 5,
   "metadata": {},
   "outputs": [
    {
     "data": {
      "text/html": [
       "<div>\n",
       "<style scoped>\n",
       "    .dataframe tbody tr th:only-of-type {\n",
       "        vertical-align: middle;\n",
       "    }\n",
       "\n",
       "    .dataframe tbody tr th {\n",
       "        vertical-align: top;\n",
       "    }\n",
       "\n",
       "    .dataframe thead th {\n",
       "        text-align: right;\n",
       "    }\n",
       "</style>\n",
       "<table border=\"1\" class=\"dataframe\">\n",
       "  <thead>\n",
       "    <tr style=\"text-align: right;\">\n",
       "      <th></th>\n",
       "      <th>age</th>\n",
       "      <th>bmi</th>\n",
       "      <th>children</th>\n",
       "      <th>charges</th>\n",
       "    </tr>\n",
       "  </thead>\n",
       "  <tbody>\n",
       "    <tr>\n",
       "      <th>count</th>\n",
       "      <td>1338.000000</td>\n",
       "      <td>1338.000000</td>\n",
       "      <td>1338.000000</td>\n",
       "      <td>1338.000000</td>\n",
       "    </tr>\n",
       "    <tr>\n",
       "      <th>mean</th>\n",
       "      <td>39.207025</td>\n",
       "      <td>30.663397</td>\n",
       "      <td>1.094918</td>\n",
       "      <td>13270.422265</td>\n",
       "    </tr>\n",
       "    <tr>\n",
       "      <th>std</th>\n",
       "      <td>14.049960</td>\n",
       "      <td>6.098187</td>\n",
       "      <td>1.205493</td>\n",
       "      <td>12110.011237</td>\n",
       "    </tr>\n",
       "    <tr>\n",
       "      <th>min</th>\n",
       "      <td>18.000000</td>\n",
       "      <td>15.960000</td>\n",
       "      <td>0.000000</td>\n",
       "      <td>1121.873900</td>\n",
       "    </tr>\n",
       "    <tr>\n",
       "      <th>25%</th>\n",
       "      <td>27.000000</td>\n",
       "      <td>26.296250</td>\n",
       "      <td>0.000000</td>\n",
       "      <td>4740.287150</td>\n",
       "    </tr>\n",
       "    <tr>\n",
       "      <th>50%</th>\n",
       "      <td>39.000000</td>\n",
       "      <td>30.400000</td>\n",
       "      <td>1.000000</td>\n",
       "      <td>9382.033000</td>\n",
       "    </tr>\n",
       "    <tr>\n",
       "      <th>75%</th>\n",
       "      <td>51.000000</td>\n",
       "      <td>34.693750</td>\n",
       "      <td>2.000000</td>\n",
       "      <td>16639.912515</td>\n",
       "    </tr>\n",
       "    <tr>\n",
       "      <th>max</th>\n",
       "      <td>64.000000</td>\n",
       "      <td>53.130000</td>\n",
       "      <td>5.000000</td>\n",
       "      <td>63770.428010</td>\n",
       "    </tr>\n",
       "  </tbody>\n",
       "</table>\n",
       "</div>"
      ],
      "text/plain": [
       "               age          bmi     children       charges\n",
       "count  1338.000000  1338.000000  1338.000000   1338.000000\n",
       "mean     39.207025    30.663397     1.094918  13270.422265\n",
       "std      14.049960     6.098187     1.205493  12110.011237\n",
       "min      18.000000    15.960000     0.000000   1121.873900\n",
       "25%      27.000000    26.296250     0.000000   4740.287150\n",
       "50%      39.000000    30.400000     1.000000   9382.033000\n",
       "75%      51.000000    34.693750     2.000000  16639.912515\n",
       "max      64.000000    53.130000     5.000000  63770.428010"
      ]
     },
     "execution_count": 5,
     "metadata": {},
     "output_type": "execute_result"
    }
   ],
   "source": [
    "df.describe()"
   ]
  },
  {
   "cell_type": "code",
   "execution_count": 6,
   "metadata": {},
   "outputs": [
    {
     "data": {
      "text/html": [
       "<div>\n",
       "<style scoped>\n",
       "    .dataframe tbody tr th:only-of-type {\n",
       "        vertical-align: middle;\n",
       "    }\n",
       "\n",
       "    .dataframe tbody tr th {\n",
       "        vertical-align: top;\n",
       "    }\n",
       "\n",
       "    .dataframe thead th {\n",
       "        text-align: right;\n",
       "    }\n",
       "</style>\n",
       "<table border=\"1\" class=\"dataframe\">\n",
       "  <thead>\n",
       "    <tr style=\"text-align: right;\">\n",
       "      <th></th>\n",
       "      <th>age</th>\n",
       "      <th>bmi</th>\n",
       "      <th>children</th>\n",
       "      <th>charges</th>\n",
       "    </tr>\n",
       "  </thead>\n",
       "  <tbody>\n",
       "    <tr>\n",
       "      <th>age</th>\n",
       "      <td>1.000000</td>\n",
       "      <td>0.109272</td>\n",
       "      <td>0.042469</td>\n",
       "      <td>0.299008</td>\n",
       "    </tr>\n",
       "    <tr>\n",
       "      <th>bmi</th>\n",
       "      <td>0.109272</td>\n",
       "      <td>1.000000</td>\n",
       "      <td>0.012759</td>\n",
       "      <td>0.198341</td>\n",
       "    </tr>\n",
       "    <tr>\n",
       "      <th>children</th>\n",
       "      <td>0.042469</td>\n",
       "      <td>0.012759</td>\n",
       "      <td>1.000000</td>\n",
       "      <td>0.067998</td>\n",
       "    </tr>\n",
       "    <tr>\n",
       "      <th>charges</th>\n",
       "      <td>0.299008</td>\n",
       "      <td>0.198341</td>\n",
       "      <td>0.067998</td>\n",
       "      <td>1.000000</td>\n",
       "    </tr>\n",
       "  </tbody>\n",
       "</table>\n",
       "</div>"
      ],
      "text/plain": [
       "               age       bmi  children   charges\n",
       "age       1.000000  0.109272  0.042469  0.299008\n",
       "bmi       0.109272  1.000000  0.012759  0.198341\n",
       "children  0.042469  0.012759  1.000000  0.067998\n",
       "charges   0.299008  0.198341  0.067998  1.000000"
      ]
     },
     "execution_count": 6,
     "metadata": {},
     "output_type": "execute_result"
    }
   ],
   "source": [
    "df.corr()"
   ]
  },
  {
   "cell_type": "code",
   "execution_count": 7,
   "metadata": {},
   "outputs": [
    {
     "data": {
      "text/plain": [
       "[<matplotlib.lines.Line2D at 0x1ecdbb6e7b8>]"
      ]
     },
     "execution_count": 7,
     "metadata": {},
     "output_type": "execute_result"
    },
    {
     "data": {
      "image/png": "[encoded data removed]",
      "text/plain": [
       "<Figure size 432x288 with 1 Axes>"
      ]
     },
     "metadata": {
      "needs_background": "light"
     },
     "output_type": "display_data"
    }
   ],
   "source": [
    "plt.plot(df.age,df.charges,'r+')"
   ]
  },
  {
   "cell_type": "code",
   "execution_count": 8,
   "metadata": {},
   "outputs": [
    {
     "data": {
      "text/plain": [
       "[<matplotlib.lines.Line2D at 0x1ecdbbc06d8>]"
      ]
     },
     "execution_count": 8,
     "metadata": {},
     "output_type": "execute_result"
    },
    {
     "data": {
      "image/png": "[encoded data removed]",
      "text/plain": [
       "<Figure size 432x288 with 1 Axes>"
      ]
     },
     "metadata": {
      "needs_background": "light"
     },
     "output_type": "display_data"
    }
   ],
   "source": [
    "plt.plot(df.bmi,df.charges,'r+')"
   ]
  },
  {
   "cell_type": "code",
   "execution_count": 9,
   "metadata": {},
   "outputs": [
    {
     "data": {
      "image/png": "[encoded data removed]",
      "text/plain": [
       "<Figure size 432x288 with 1 Axes>"
      ]
     },
     "metadata": {
      "needs_background": "light"
     },
     "output_type": "display_data"
    }
   ],
   "source": [
    "ax = sns.boxplot(x=\"sex\", y=\"charges\", data=df)"
   ]
  },
  {
   "cell_type": "code",
   "execution_count": 10,
   "metadata": {},
   "outputs": [
    {
     "data": {
      "image/png": "[encoded data removed]",
      "text/plain": [
       "<Figure size 432x288 with 1 Axes>"
      ]
     },
     "metadata": {
      "needs_background": "light"
     },
     "output_type": "display_data"
    }
   ],
   "source": [
    "ax = sns.boxplot(x=\"smoker\", y=\"charges\", data=df)"
   ]
  },
  {
   "cell_type": "markdown",
   "metadata": {},
   "source": [
    "Smoker pays more insurance charges"
   ]
  },
  {
   "cell_type": "code",
   "execution_count": 11,
   "metadata": {},
   "outputs": [
    {
     "name": "stderr",
     "output_type": "stream",
     "text": [
      "C:\\Users\\mayan\\Anaconda3\\lib\\site-packages\\seaborn\\regression.py:574: UserWarning: The `size` parameter has been renamed to `height`; please update your code.\n",
      "  warnings.warn(msg, UserWarning)\n"
     ]
    },
    {
     "data": {
      "text/plain": [
       "Text(-8.699999999999996, 0.5, 'Charge')"
      ]
     },
     "execution_count": 11,
     "metadata": {},
     "output_type": "execute_result"
    },
    {
     "data": {
      "image/png": "[encoded data removed]",
      "text/plain": [
       "<Figure size 648x432 with 1 Axes>"
      ]
     },
     "metadata": {
      "needs_background": "light"
     },
     "output_type": "display_data"
    }
   ],
   "source": [
    "sns.lmplot(x = 'bmi',y='charges',data=df,size=6,aspect=1.5,\n",
    "           scatter_kws={\"s\": 70, \"alpha\": 1,'edgecolor':'black'},legend=False,fit_reg=True)\n",
    "\n",
    "plt.title('Scatterplot',fontsize=14)\n",
    "plt.xlabel('BMI',fontsize=12)\n",
    "plt.ylabel('Charge',fontsize=12)"
   ]
  },
  {
   "cell_type": "markdown",
   "metadata": {},
   "source": [
    "There is positive but weak correlation between BMI and charges"
   ]
  },
  {
   "cell_type": "code",
   "execution_count": 12,
   "metadata": {},
   "outputs": [
    {
     "name": "stderr",
     "output_type": "stream",
     "text": [
      "C:\\Users\\mayan\\Anaconda3\\lib\\site-packages\\seaborn\\regression.py:574: UserWarning: The `size` parameter has been renamed to `height`; please update your code.\n",
      "  warnings.warn(msg, UserWarning)\n"
     ]
    },
    {
     "data": {
      "text/plain": [
       "<matplotlib.legend.Legend at 0x1ecdbeed7b8>"
      ]
     },
     "execution_count": 12,
     "metadata": {},
     "output_type": "execute_result"
    },
    {
     "data": {
      "image/png": "[encoded data removed]",
      "text/plain": [
       "<Figure size 648x432 with 1 Axes>"
      ]
     },
     "metadata": {
      "needs_background": "light"
     },
     "output_type": "display_data"
    }
   ],
   "source": [
    "sns.lmplot(x = 'bmi',y='charges',hue='smoker',data=df,size=6,aspect=1.5,\n",
    "           scatter_kws={\"s\": 70, \"alpha\": 1,'edgecolor':'black'},legend=False,fit_reg=True)\n",
    "\n",
    "plt.title('Scatterplot Analysis',fontsize=14)\n",
    "plt.xlabel('BMI',fontsize=12)\n",
    "plt.ylabel('Charge',fontsize=12)\n",
    "plt.legend(loc=[1.1,0.5],title = 'smoker', fontsize=13)"
   ]
  },
  {
   "cell_type": "markdown",
   "metadata": {},
   "source": [
    "Scatter plot shows for smoker correlation is positive and strong so thet pay more for insurance then non smokers regardless of same BMI"
   ]
  },
  {
   "cell_type": "code",
   "execution_count": 13,
   "metadata": {},
   "outputs": [
    {
     "data": {
      "image/png": "[encoded data removed]",
      "text/plain": [
       "<Figure size 432x288 with 1 Axes>"
      ]
     },
     "metadata": {
      "needs_background": "light"
     },
     "output_type": "display_data"
    }
   ],
   "source": [
    "ax = sns.boxplot(x=\"region\", y=\"charges\", data=df)"
   ]
  },
  {
   "cell_type": "code",
   "execution_count": 14,
   "metadata": {},
   "outputs": [],
   "source": [
    "df['age_cat'] = np.nan\n",
    "lst = [df]\n",
    "\n",
    "for col in lst:\n",
    "    col.loc[(col['age'] >= 18) & (col['age'] <= 27), 'age_cat'] = 'Young Adult'\n",
    "    col.loc[(col['age'] > 27) & (col['age'] <= 39), 'age_cat'] = 'Adult'\n",
    "    col.loc[(col['age'] > 39) & (col['age'] <= 51), 'age_cat'] = 'Senior Adult'\n",
    "    col.loc[col['age'] > 51, 'age_cat'] = 'Elder'"
   ]
  },
  {
   "cell_type": "code",
   "execution_count": 15,
   "metadata": {},
   "outputs": [],
   "source": [
    "cat_age = df.age_cat.value_counts()"
   ]
  },
  {
   "cell_type": "code",
   "execution_count": 16,
   "metadata": {},
   "outputs": [],
   "source": [
    "x = list(cat_age.index)"
   ]
  },
  {
   "cell_type": "code",
   "execution_count": 17,
   "metadata": {},
   "outputs": [],
   "source": [
    "y = list(cat_age.values)"
   ]
  },
  {
   "cell_type": "code",
   "execution_count": 18,
   "metadata": {},
   "outputs": [
    {
     "data": {
      "text/plain": [
       "<BarContainer object of 4 artists>"
      ]
     },
     "execution_count": 18,
     "metadata": {},
     "output_type": "execute_result"
    },
    {
     "data": {
      "image/png": "[encoded data removed]",
      "text/plain": [
       "<Figure size 432x288 with 1 Axes>"
      ]
     },
     "metadata": {
      "needs_background": "light"
     },
     "output_type": "display_data"
    }
   ],
   "source": [
    "plt.bar(x,y)"
   ]
  },
  {
   "cell_type": "code",
   "execution_count": 19,
   "metadata": {},
   "outputs": [
    {
     "data": {
      "image/png": "[encoded data removed]",
      "text/plain": [
       "<Figure size 432x288 with 1 Axes>"
      ]
     },
     "metadata": {
      "needs_background": "light"
     },
     "output_type": "display_data"
    }
   ],
   "source": [
    "ax = sns.boxplot(x=\"age_cat\", y=\"charges\", data=df)"
   ]
  },
  {
   "cell_type": "markdown",
   "metadata": {},
   "source": [
    "https://www.calculator.net/bmi-calculator.html"
   ]
  },
  {
   "cell_type": "code",
   "execution_count": 20,
   "metadata": {},
   "outputs": [
    {
     "data": {
      "image/png": "[encoded data removed]",
      "text/plain": [
       "<Figure size 432x288 with 1 Axes>"
      ]
     },
     "metadata": {
      "needs_background": "light"
     },
     "output_type": "display_data"
    }
   ],
   "source": [
    "ax = sns.boxplot(x=\"bmi\", data=df)"
   ]
  },
  {
   "cell_type": "code",
   "execution_count": 21,
   "metadata": {},
   "outputs": [],
   "source": [
    "df['bmi_cat'] = np.nan\n",
    "lst = [df]\n",
    "\n",
    "for col in lst:\n",
    "    col.loc[col['bmi'] < 16, 'bmi_cat'] = 'Severe T'\n",
    "    col.loc[(col['bmi'] >= 16) & (col['bmi'] <= 17), 'bmi_cat']  = 'Moderate T'\n",
    "    col.loc[(col['bmi'] > 17) & (col['bmi'] <= 18.5), 'bmi_cat'] = 'Mild T'\n",
    "    col.loc[(col['bmi'] > 18.5) & (col['bmi'] <= 25), 'bmi_cat'] = 'N'\n",
    "    col.loc[(col['bmi'] > 25) & (col['bmi'] <= 30), 'bmi_cat']   = 'O.W.'\n",
    "    col.loc[(col['bmi'] > 30) & (col['bmi'] <= 35), 'bmi_cat']   = 'ObeseI'\n",
    "    col.loc[(col['bmi'] > 35) & (col['bmi'] <= 40), 'bmi_cat']   = 'ObeseII'\n",
    "    col.loc[col['bmi'] > 40, 'bmi_cat'] = 'ObeseIII'"
   ]
  },
  {
   "cell_type": "code",
   "execution_count": 22,
   "metadata": {},
   "outputs": [
    {
     "data": {
      "text/plain": [
       "ObeseI        389\n",
       "O.W.          386\n",
       "N             226\n",
       "ObeseII       225\n",
       "ObeseIII       91\n",
       "Mild T         18\n",
       "Moderate T      2\n",
       "Severe T        1\n",
       "Name: bmi_cat, dtype: int64"
      ]
     },
     "execution_count": 22,
     "metadata": {},
     "output_type": "execute_result"
    }
   ],
   "source": [
    "cat_bmi = df.bmi_cat.value_counts()\n",
    "cat_bmi"
   ]
  },
  {
   "cell_type": "code",
   "execution_count": 23,
   "metadata": {},
   "outputs": [
    {
     "data": {
      "text/plain": [
       "<BarContainer object of 8 artists>"
      ]
     },
     "execution_count": 23,
     "metadata": {},
     "output_type": "execute_result"
    },
    {
     "data": {
      "image/png": "[encoded data removed]",
      "text/plain": [
       "<Figure size 432x288 with 1 Axes>"
      ]
     },
     "metadata": {
      "needs_background": "light"
     },
     "output_type": "display_data"
    }
   ],
   "source": [
    "x = list(cat_bmi.index)\n",
    "y = y = list(cat_bmi.values)\n",
    "plt.bar(x,y)"
   ]
  },
  {
   "cell_type": "code",
   "execution_count": 24,
   "metadata": {},
   "outputs": [
    {
     "data": {
      "image/png": "[encoded data removed]",
      "text/plain": [
       "<Figure size 432x288 with 1 Axes>"
      ]
     },
     "metadata": {
      "needs_background": "light"
     },
     "output_type": "display_data"
    }
   ],
   "source": [
    "ax = sns.boxplot(x=\"bmi_cat\", y=\"charges\", data=df)"
   ]
  },
  {
   "cell_type": "code",
   "execution_count": 25,
   "metadata": {},
   "outputs": [
    {
     "data": {
      "image/png": "[encoded data removed]",
      "text/plain": [
       "<Figure size 432x288 with 1 Axes>"
      ]
     },
     "metadata": {
      "needs_background": "light"
     },
     "output_type": "display_data"
    }
   ],
   "source": [
    "ax = sns.boxplot(x=\"bmi_cat\", y=\"age\", data=df)"
   ]
  },
  {
   "cell_type": "code",
   "execution_count": 26,
   "metadata": {},
   "outputs": [
    {
     "data": {
      "image/png": "[encoded data removed]",
      "text/plain": [
       "<Figure size 432x288 with 1 Axes>"
      ]
     },
     "metadata": {
      "needs_background": "light"
     },
     "output_type": "display_data"
    }
   ],
   "source": [
    "ax = sns.boxplot(x=\"charges\",  data=df)"
   ]
  },
  {
   "cell_type": "markdown",
   "metadata": {},
   "source": [
    "outliers"
   ]
  },
  {
   "cell_type": "code",
   "execution_count": 27,
   "metadata": {},
   "outputs": [
    {
     "data": {
      "text/plain": [
       "(array([536., 398., 129.,  86.,  35.,  59.,  57.,  32.,   2.,   4.]),\n",
       " array([ 1121.8739  ,  7386.729311, 13651.584722, 19916.440133,\n",
       "        26181.295544, 32446.150955, 38711.006366, 44975.861777,\n",
       "        51240.717188, 57505.572599, 63770.42801 ]),\n",
       " <a list of 10 Patch objects>)"
      ]
     },
     "execution_count": 27,
     "metadata": {},
     "output_type": "execute_result"
    },
    {
     "data": {
      "image/png": "[encoded data removed]",
      "text/plain": [
       "<Figure size 432x288 with 1 Axes>"
      ]
     },
     "metadata": {
      "needs_background": "light"
     },
     "output_type": "display_data"
    }
   ],
   "source": [
    "plt.hist(df.charges)"
   ]
  },
  {
   "cell_type": "markdown",
   "metadata": {},
   "source": [
    "right skewed data"
   ]
  },
  {
   "cell_type": "code",
   "execution_count": 28,
   "metadata": {},
   "outputs": [
    {
     "data": {
      "image/png": "[encoded data removed]",
      "text/plain": [
       "<Figure size 432x288 with 1 Axes>"
      ]
     },
     "metadata": {
      "needs_background": "light"
     },
     "output_type": "display_data"
    }
   ],
   "source": [
    "ax = sns.boxplot(x = np.log10(df.charges))"
   ]
  },
  {
   "cell_type": "markdown",
   "metadata": {},
   "source": [
    "Log transformation"
   ]
  },
  {
   "cell_type": "code",
   "execution_count": 29,
   "metadata": {},
   "outputs": [
    {
     "data": {
      "text/plain": [
       "(array([ 46., 105., 101., 155., 198., 283., 156., 123., 115.,  56.]),\n",
       " array([3.04994404, 3.22541157, 3.4008791 , 3.57634663, 3.75181416,\n",
       "        3.92728169, 4.10274922, 4.27821675, 4.45368427, 4.6291518 ,\n",
       "        4.80461933]),\n",
       " <a list of 10 Patch objects>)"
      ]
     },
     "execution_count": 29,
     "metadata": {},
     "output_type": "execute_result"
    },
    {
     "data": {
      "image/png": "[encoded data removed]",
      "text/plain": [
       "<Figure size 432x288 with 1 Axes>"
      ]
     },
     "metadata": {
      "needs_background": "light"
     },
     "output_type": "display_data"
    }
   ],
   "source": [
    "plt.hist(np.log10(df.charges))"
   ]
  },
  {
   "cell_type": "markdown",
   "metadata": {},
   "source": [
    "Log transformation Normalize the data and handles outlier values"
   ]
  },
  {
   "cell_type": "code",
   "execution_count": 30,
   "metadata": {},
   "outputs": [
    {
     "data": {
      "text/html": [
       "<div>\n",
       "<style scoped>\n",
       "    .dataframe tbody tr th:only-of-type {\n",
       "        vertical-align: middle;\n",
       "    }\n",
       "\n",
       "    .dataframe tbody tr th {\n",
       "        vertical-align: top;\n",
       "    }\n",
       "\n",
       "    .dataframe thead th {\n",
       "        text-align: right;\n",
       "    }\n",
       "</style>\n",
       "<table border=\"1\" class=\"dataframe\">\n",
       "  <thead>\n",
       "    <tr style=\"text-align: right;\">\n",
       "      <th></th>\n",
       "      <th>age</th>\n",
       "      <th>sex</th>\n",
       "      <th>bmi</th>\n",
       "      <th>children</th>\n",
       "      <th>smoker</th>\n",
       "      <th>region</th>\n",
       "      <th>charges</th>\n",
       "      <th>age_cat</th>\n",
       "      <th>bmi_cat</th>\n",
       "    </tr>\n",
       "  </thead>\n",
       "  <tbody>\n",
       "    <tr>\n",
       "      <th>0</th>\n",
       "      <td>19</td>\n",
       "      <td>female</td>\n",
       "      <td>27.900</td>\n",
       "      <td>0</td>\n",
       "      <td>yes</td>\n",
       "      <td>southwest</td>\n",
       "      <td>16884.92400</td>\n",
       "      <td>Young Adult</td>\n",
       "      <td>O.W.</td>\n",
       "    </tr>\n",
       "    <tr>\n",
       "      <th>1</th>\n",
       "      <td>18</td>\n",
       "      <td>male</td>\n",
       "      <td>33.770</td>\n",
       "      <td>1</td>\n",
       "      <td>no</td>\n",
       "      <td>southeast</td>\n",
       "      <td>1725.55230</td>\n",
       "      <td>Young Adult</td>\n",
       "      <td>ObeseI</td>\n",
       "    </tr>\n",
       "    <tr>\n",
       "      <th>2</th>\n",
       "      <td>28</td>\n",
       "      <td>male</td>\n",
       "      <td>33.000</td>\n",
       "      <td>3</td>\n",
       "      <td>no</td>\n",
       "      <td>southeast</td>\n",
       "      <td>4449.46200</td>\n",
       "      <td>Adult</td>\n",
       "      <td>ObeseI</td>\n",
       "    </tr>\n",
       "    <tr>\n",
       "      <th>3</th>\n",
       "      <td>33</td>\n",
       "      <td>male</td>\n",
       "      <td>22.705</td>\n",
       "      <td>0</td>\n",
       "      <td>no</td>\n",
       "      <td>northwest</td>\n",
       "      <td>21984.47061</td>\n",
       "      <td>Adult</td>\n",
       "      <td>N</td>\n",
       "    </tr>\n",
       "    <tr>\n",
       "      <th>4</th>\n",
       "      <td>32</td>\n",
       "      <td>male</td>\n",
       "      <td>28.880</td>\n",
       "      <td>0</td>\n",
       "      <td>no</td>\n",
       "      <td>northwest</td>\n",
       "      <td>3866.85520</td>\n",
       "      <td>Adult</td>\n",
       "      <td>O.W.</td>\n",
       "    </tr>\n",
       "  </tbody>\n",
       "</table>\n",
       "</div>"
      ],
      "text/plain": [
       "   age     sex     bmi  children smoker     region      charges      age_cat  \\\n",
       "0   19  female  27.900         0    yes  southwest  16884.92400  Young Adult   \n",
       "1   18    male  33.770         1     no  southeast   1725.55230  Young Adult   \n",
       "2   28    male  33.000         3     no  southeast   4449.46200        Adult   \n",
       "3   33    male  22.705         0     no  northwest  21984.47061        Adult   \n",
       "4   32    male  28.880         0     no  northwest   3866.85520        Adult   \n",
       "\n",
       "  bmi_cat  \n",
       "0    O.W.  \n",
       "1  ObeseI  \n",
       "2  ObeseI  \n",
       "3       N  \n",
       "4    O.W.  "
      ]
     },
     "execution_count": 30,
     "metadata": {},
     "output_type": "execute_result"
    }
   ],
   "source": [
    "df.head()"
   ]
  },
  {
   "cell_type": "code",
   "execution_count": 31,
   "metadata": {},
   "outputs": [],
   "source": [
    "y = df.charges"
   ]
  },
  {
   "cell_type": "code",
   "execution_count": 32,
   "metadata": {},
   "outputs": [],
   "source": [
    "df  = df.drop(['bmi_cat'], axis=1)\n",
    "df  = df.drop(['age_cat'], axis=1)"
   ]
  },
  {
   "cell_type": "code",
   "execution_count": 33,
   "metadata": {},
   "outputs": [],
   "source": [
    "df_oh = pd.get_dummies(df)"
   ]
  },
  {
   "cell_type": "code",
   "execution_count": 34,
   "metadata": {},
   "outputs": [
    {
     "data": {
      "text/html": [
       "<div>\n",
       "<style scoped>\n",
       "    .dataframe tbody tr th:only-of-type {\n",
       "        vertical-align: middle;\n",
       "    }\n",
       "\n",
       "    .dataframe tbody tr th {\n",
       "        vertical-align: top;\n",
       "    }\n",
       "\n",
       "    .dataframe thead th {\n",
       "        text-align: right;\n",
       "    }\n",
       "</style>\n",
       "<table border=\"1\" class=\"dataframe\">\n",
       "  <thead>\n",
       "    <tr style=\"text-align: right;\">\n",
       "      <th></th>\n",
       "      <th>age</th>\n",
       "      <th>bmi</th>\n",
       "      <th>children</th>\n",
       "      <th>charges</th>\n",
       "      <th>sex_female</th>\n",
       "      <th>sex_male</th>\n",
       "      <th>smoker_no</th>\n",
       "      <th>smoker_yes</th>\n",
       "      <th>region_northeast</th>\n",
       "      <th>region_northwest</th>\n",
       "      <th>region_southeast</th>\n",
       "      <th>region_southwest</th>\n",
       "    </tr>\n",
       "  </thead>\n",
       "  <tbody>\n",
       "    <tr>\n",
       "      <th>0</th>\n",
       "      <td>19</td>\n",
       "      <td>27.900</td>\n",
       "      <td>0</td>\n",
       "      <td>16884.92400</td>\n",
       "      <td>1</td>\n",
       "      <td>0</td>\n",
       "      <td>0</td>\n",
       "      <td>1</td>\n",
       "      <td>0</td>\n",
       "      <td>0</td>\n",
       "      <td>0</td>\n",
       "      <td>1</td>\n",
       "    </tr>\n",
       "    <tr>\n",
       "      <th>1</th>\n",
       "      <td>18</td>\n",
       "      <td>33.770</td>\n",
       "      <td>1</td>\n",
       "      <td>1725.55230</td>\n",
       "      <td>0</td>\n",
       "      <td>1</td>\n",
       "      <td>1</td>\n",
       "      <td>0</td>\n",
       "      <td>0</td>\n",
       "      <td>0</td>\n",
       "      <td>1</td>\n",
       "      <td>0</td>\n",
       "    </tr>\n",
       "    <tr>\n",
       "      <th>2</th>\n",
       "      <td>28</td>\n",
       "      <td>33.000</td>\n",
       "      <td>3</td>\n",
       "      <td>4449.46200</td>\n",
       "      <td>0</td>\n",
       "      <td>1</td>\n",
       "      <td>1</td>\n",
       "      <td>0</td>\n",
       "      <td>0</td>\n",
       "      <td>0</td>\n",
       "      <td>1</td>\n",
       "      <td>0</td>\n",
       "    </tr>\n",
       "    <tr>\n",
       "      <th>3</th>\n",
       "      <td>33</td>\n",
       "      <td>22.705</td>\n",
       "      <td>0</td>\n",
       "      <td>21984.47061</td>\n",
       "      <td>0</td>\n",
       "      <td>1</td>\n",
       "      <td>1</td>\n",
       "      <td>0</td>\n",
       "      <td>0</td>\n",
       "      <td>1</td>\n",
       "      <td>0</td>\n",
       "      <td>0</td>\n",
       "    </tr>\n",
       "    <tr>\n",
       "      <th>4</th>\n",
       "      <td>32</td>\n",
       "      <td>28.880</td>\n",
       "      <td>0</td>\n",
       "      <td>3866.85520</td>\n",
       "      <td>0</td>\n",
       "      <td>1</td>\n",
       "      <td>1</td>\n",
       "      <td>0</td>\n",
       "      <td>0</td>\n",
       "      <td>1</td>\n",
       "      <td>0</td>\n",
       "      <td>0</td>\n",
       "    </tr>\n",
       "  </tbody>\n",
       "</table>\n",
       "</div>"
      ],
      "text/plain": [
       "   age     bmi  children      charges  sex_female  sex_male  smoker_no  \\\n",
       "0   19  27.900         0  16884.92400           1         0          0   \n",
       "1   18  33.770         1   1725.55230           0         1          1   \n",
       "2   28  33.000         3   4449.46200           0         1          1   \n",
       "3   33  22.705         0  21984.47061           0         1          1   \n",
       "4   32  28.880         0   3866.85520           0         1          1   \n",
       "\n",
       "   smoker_yes  region_northeast  region_northwest  region_southeast  \\\n",
       "0           1                 0                 0                 0   \n",
       "1           0                 0                 0                 1   \n",
       "2           0                 0                 0                 1   \n",
       "3           0                 0                 1                 0   \n",
       "4           0                 0                 1                 0   \n",
       "\n",
       "   region_southwest  \n",
       "0                 1  \n",
       "1                 0  \n",
       "2                 0  \n",
       "3                 0  \n",
       "4                 0  "
      ]
     },
     "execution_count": 34,
     "metadata": {},
     "output_type": "execute_result"
    }
   ],
   "source": [
    "df_oh.head()"
   ]
  },
  {
   "cell_type": "code",
   "execution_count": 35,
   "metadata": {},
   "outputs": [],
   "source": [
    "X = df_oh.drop(['charges'], axis=1)"
   ]
  },
  {
   "cell_type": "code",
   "execution_count": 36,
   "metadata": {},
   "outputs": [
    {
     "data": {
      "text/html": [
       "<div>\n",
       "<style scoped>\n",
       "    .dataframe tbody tr th:only-of-type {\n",
       "        vertical-align: middle;\n",
       "    }\n",
       "\n",
       "    .dataframe tbody tr th {\n",
       "        vertical-align: top;\n",
       "    }\n",
       "\n",
       "    .dataframe thead th {\n",
       "        text-align: right;\n",
       "    }\n",
       "</style>\n",
       "<table border=\"1\" class=\"dataframe\">\n",
       "  <thead>\n",
       "    <tr style=\"text-align: right;\">\n",
       "      <th></th>\n",
       "      <th>age</th>\n",
       "      <th>bmi</th>\n",
       "      <th>children</th>\n",
       "      <th>sex_female</th>\n",
       "      <th>sex_male</th>\n",
       "      <th>smoker_no</th>\n",
       "      <th>smoker_yes</th>\n",
       "      <th>region_northeast</th>\n",
       "      <th>region_northwest</th>\n",
       "      <th>region_southeast</th>\n",
       "      <th>region_southwest</th>\n",
       "    </tr>\n",
       "  </thead>\n",
       "  <tbody>\n",
       "    <tr>\n",
       "      <th>0</th>\n",
       "      <td>19</td>\n",
       "      <td>27.900</td>\n",
       "      <td>0</td>\n",
       "      <td>1</td>\n",
       "      <td>0</td>\n",
       "      <td>0</td>\n",
       "      <td>1</td>\n",
       "      <td>0</td>\n",
       "      <td>0</td>\n",
       "      <td>0</td>\n",
       "      <td>1</td>\n",
       "    </tr>\n",
       "    <tr>\n",
       "      <th>1</th>\n",
       "      <td>18</td>\n",
       "      <td>33.770</td>\n",
       "      <td>1</td>\n",
       "      <td>0</td>\n",
       "      <td>1</td>\n",
       "      <td>1</td>\n",
       "      <td>0</td>\n",
       "      <td>0</td>\n",
       "      <td>0</td>\n",
       "      <td>1</td>\n",
       "      <td>0</td>\n",
       "    </tr>\n",
       "    <tr>\n",
       "      <th>2</th>\n",
       "      <td>28</td>\n",
       "      <td>33.000</td>\n",
       "      <td>3</td>\n",
       "      <td>0</td>\n",
       "      <td>1</td>\n",
       "      <td>1</td>\n",
       "      <td>0</td>\n",
       "      <td>0</td>\n",
       "      <td>0</td>\n",
       "      <td>1</td>\n",
       "      <td>0</td>\n",
       "    </tr>\n",
       "    <tr>\n",
       "      <th>3</th>\n",
       "      <td>33</td>\n",
       "      <td>22.705</td>\n",
       "      <td>0</td>\n",
       "      <td>0</td>\n",
       "      <td>1</td>\n",
       "      <td>1</td>\n",
       "      <td>0</td>\n",
       "      <td>0</td>\n",
       "      <td>1</td>\n",
       "      <td>0</td>\n",
       "      <td>0</td>\n",
       "    </tr>\n",
       "    <tr>\n",
       "      <th>4</th>\n",
       "      <td>32</td>\n",
       "      <td>28.880</td>\n",
       "      <td>0</td>\n",
       "      <td>0</td>\n",
       "      <td>1</td>\n",
       "      <td>1</td>\n",
       "      <td>0</td>\n",
       "      <td>0</td>\n",
       "      <td>1</td>\n",
       "      <td>0</td>\n",
       "      <td>0</td>\n",
       "    </tr>\n",
       "  </tbody>\n",
       "</table>\n",
       "</div>"
      ],
      "text/plain": [
       "   age     bmi  children  sex_female  sex_male  smoker_no  smoker_yes  \\\n",
       "0   19  27.900         0           1         0          0           1   \n",
       "1   18  33.770         1           0         1          1           0   \n",
       "2   28  33.000         3           0         1          1           0   \n",
       "3   33  22.705         0           0         1          1           0   \n",
       "4   32  28.880         0           0         1          1           0   \n",
       "\n",
       "   region_northeast  region_northwest  region_southeast  region_southwest  \n",
       "0                 0                 0                 0                 1  \n",
       "1                 0                 0                 1                 0  \n",
       "2                 0                 0                 1                 0  \n",
       "3                 0                 1                 0                 0  \n",
       "4                 0                 1                 0                 0  "
      ]
     },
     "execution_count": 36,
     "metadata": {},
     "output_type": "execute_result"
    }
   ],
   "source": [
    "X.head()"
   ]
  },
  {
   "cell_type": "code",
   "execution_count": 37,
   "metadata": {},
   "outputs": [
    {
     "data": {
      "text/plain": [
       "Index(['age', 'bmi', 'children', 'sex_female', 'sex_male', 'smoker_no',\n",
       "       'smoker_yes', 'region_northeast', 'region_northwest',\n",
       "       'region_southeast', 'region_southwest'],\n",
       "      dtype='object')"
      ]
     },
     "execution_count": 37,
     "metadata": {},
     "output_type": "execute_result"
    }
   ],
   "source": [
    "X.columns"
   ]
  },
  {
   "cell_type": "code",
   "execution_count": 38,
   "metadata": {},
   "outputs": [
    {
     "data": {
      "text/plain": [
       "(1338, 11)"
      ]
     },
     "execution_count": 38,
     "metadata": {},
     "output_type": "execute_result"
    }
   ],
   "source": [
    "X.shape"
   ]
  },
  {
   "cell_type": "code",
   "execution_count": 39,
   "metadata": {},
   "outputs": [],
   "source": [
    "from sklearn.model_selection import train_test_split\n",
    "from sklearn import metrics"
   ]
  },
  {
   "cell_type": "code",
   "execution_count": 40,
   "metadata": {},
   "outputs": [],
   "source": [
    "X_train, X_test, y_train, y_test = train_test_split(X, y, test_size=0.2, random_state=42)"
   ]
  },
  {
   "cell_type": "code",
   "execution_count": 41,
   "metadata": {},
   "outputs": [],
   "source": [
    "# log transformation \n",
    "y_train = np.log10(y_train)"
   ]
  },
  {
   "cell_type": "markdown",
   "metadata": {},
   "source": [
    "# Before Modeling"
   ]
  },
  {
   "cell_type": "markdown",
   "metadata": {},
   "source": [
    "# R square v/s Adjsuted R square"
   ]
  },
  {
   "cell_type": "markdown",
   "metadata": {},
   "source": [
    "Let’s consider we have simple linear regression with one independent variable (X1) and one dependent variable (y). R2 is one way to check model performance. R2 shows the variability in (y) explained by (X1). In simple words if R2 is 0.85 so with X1 85% of variation is explained in (y). <br>\n",
    "\n",
    "<b>Problem with R square </b> <br>\n",
    "•\tNow let’s say we add one more independent variable (X2), R2 will increase even though there is no relationship between independent variable (X2) and dependent variable (y) to solve this problem there is something called Adjusted R2.\n",
    "Adjusted R Square <br>\n",
    "\n",
    "•\tAdjusted R square does not increase with addition of insignificant variable rather it decreases. Adjusted R square only increases when significant variable is added. \n",
    "Hence Adjusted R square is more reliable then R square.\n"
   ]
  },
  {
   "cell_type": "markdown",
   "metadata": {},
   "source": [
    "# Fitting degree 1 regression"
   ]
  },
  {
   "cell_type": "code",
   "execution_count": 42,
   "metadata": {},
   "outputs": [
    {
     "data": {
      "text/plain": [
       "LinearRegression(copy_X=True, fit_intercept=True, n_jobs=None, normalize=False)"
      ]
     },
     "execution_count": 42,
     "metadata": {},
     "output_type": "execute_result"
    }
   ],
   "source": [
    "reg= LinearRegression()\n",
    "reg.fit(X_train,y_train)"
   ]
  },
  {
   "cell_type": "code",
   "execution_count": 43,
   "metadata": {},
   "outputs": [
    {
     "data": {
      "text/plain": [
       "0.7572273406818845"
      ]
     },
     "execution_count": 43,
     "metadata": {},
     "output_type": "execute_result"
    }
   ],
   "source": [
    "reg.score(X_train, y_train)"
   ]
  },
  {
   "cell_type": "code",
   "execution_count": 44,
   "metadata": {},
   "outputs": [
    {
     "name": "stdout",
     "output_type": "stream",
     "text": [
      "Coefficients: \n",
      " [ 0.01487262  0.00590632  0.04014959  0.01614486 -0.01614486 -0.33694694\n",
      "  0.33694694  0.03420498  0.00970474 -0.02488869 -0.01902102]\n"
     ]
    }
   ],
   "source": [
    "print('Coefficients: \\n', reg.coef_)"
   ]
  },
  {
   "cell_type": "code",
   "execution_count": 45,
   "metadata": {},
   "outputs": [],
   "source": [
    "y_pred = reg.predict(X_test)"
   ]
  },
  {
   "cell_type": "markdown",
   "metadata": {},
   "source": [
    "# Using statsmodel library for detailed regression summary"
   ]
  },
  {
   "cell_type": "code",
   "execution_count": 46,
   "metadata": {},
   "outputs": [
    {
     "name": "stdout",
     "output_type": "stream",
     "text": [
      "RMSE =  7815.307271065338\n",
      "ADj r*2 =  0.755396821101729\n"
     ]
    }
   ],
   "source": [
    "\n",
    "olsmod = sm.OLS(y_train, X_train)\n",
    "olsres = olsmod.fit()\n",
    "    \n",
    "y_pred = olsres.predict(X_test)\n",
    "\n",
    "print('RMSE = ',np.sqrt(mean_squared_error(10**y_pred,y_test)))\n",
    "    \n",
    "print('ADj r*2 = ',olsres.rsquared_adj)"
   ]
  },
  {
   "cell_type": "code",
   "execution_count": 47,
   "metadata": {},
   "outputs": [
    {
     "data": {
      "text/html": [
       "<table class=\"simpletable\">\n",
       "<caption>OLS Regression Results</caption>\n",
       "<tr>\n",
       "  <th>Dep. Variable:</th>         <td>charges</td>     <th>  R-squared:         </th> <td>   0.757</td> \n",
       "</tr>\n",
       "<tr>\n",
       "  <th>Model:</th>                   <td>OLS</td>       <th>  Adj. R-squared:    </th> <td>   0.755</td> \n",
       "</tr>\n",
       "<tr>\n",
       "  <th>Method:</th>             <td>Least Squares</td>  <th>  F-statistic:       </th> <td>   413.7</td> \n",
       "</tr>\n",
       "<tr>\n",
       "  <th>Date:</th>             <td>Fri, 29 May 2020</td> <th>  Prob (F-statistic):</th> <td>7.72e-320</td>\n",
       "</tr>\n",
       "<tr>\n",
       "  <th>Time:</th>                 <td>16:25:54</td>     <th>  Log-Likelihood:    </th> <td>  231.04</td> \n",
       "</tr>\n",
       "<tr>\n",
       "  <th>No. Observations:</th>      <td>  1070</td>      <th>  AIC:               </th> <td>  -444.1</td> \n",
       "</tr>\n",
       "<tr>\n",
       "  <th>Df Residuals:</th>          <td>  1061</td>      <th>  BIC:               </th> <td>  -399.3</td> \n",
       "</tr>\n",
       "<tr>\n",
       "  <th>Df Model:</th>              <td>     8</td>      <th>                     </th>     <td> </td>    \n",
       "</tr>\n",
       "<tr>\n",
       "  <th>Covariance Type:</th>      <td>nonrobust</td>    <th>                     </th>     <td> </td>    \n",
       "</tr>\n",
       "</table>\n",
       "<table class=\"simpletable\">\n",
       "<tr>\n",
       "          <td></td>            <th>coef</th>     <th>std err</th>      <th>t</th>      <th>P>|t|</th>  <th>[0.025</th>    <th>0.975]</th>  \n",
       "</tr>\n",
       "<tr>\n",
       "  <th>age</th>              <td>    0.0149</td> <td>    0.000</td> <td>   34.555</td> <td> 0.000</td> <td>    0.014</td> <td>    0.016</td>\n",
       "</tr>\n",
       "<tr>\n",
       "  <th>bmi</th>              <td>    0.0059</td> <td>    0.001</td> <td>    5.696</td> <td> 0.000</td> <td>    0.004</td> <td>    0.008</td>\n",
       "</tr>\n",
       "<tr>\n",
       "  <th>children</th>         <td>    0.0401</td> <td>    0.005</td> <td>    8.129</td> <td> 0.000</td> <td>    0.030</td> <td>    0.050</td>\n",
       "</tr>\n",
       "<tr>\n",
       "  <th>sex_female</th>       <td>    1.3548</td> <td>    0.015</td> <td>   89.196</td> <td> 0.000</td> <td>    1.325</td> <td>    1.385</td>\n",
       "</tr>\n",
       "<tr>\n",
       "  <th>sex_male</th>         <td>    1.3226</td> <td>    0.015</td> <td>   86.766</td> <td> 0.000</td> <td>    1.293</td> <td>    1.352</td>\n",
       "</tr>\n",
       "<tr>\n",
       "  <th>smoker_no</th>        <td>    1.0018</td> <td>    0.015</td> <td>   65.924</td> <td> 0.000</td> <td>    0.972</td> <td>    1.032</td>\n",
       "</tr>\n",
       "<tr>\n",
       "  <th>smoker_yes</th>       <td>    1.6757</td> <td>    0.016</td> <td>  101.794</td> <td> 0.000</td> <td>    1.643</td> <td>    1.708</td>\n",
       "</tr>\n",
       "<tr>\n",
       "  <th>region_northeast</th> <td>    0.7036</td> <td>    0.012</td> <td>   59.690</td> <td> 0.000</td> <td>    0.680</td> <td>    0.727</td>\n",
       "</tr>\n",
       "<tr>\n",
       "  <th>region_northwest</th> <td>    0.6791</td> <td>    0.012</td> <td>   55.533</td> <td> 0.000</td> <td>    0.655</td> <td>    0.703</td>\n",
       "</tr>\n",
       "<tr>\n",
       "  <th>region_southeast</th> <td>    0.6445</td> <td>    0.014</td> <td>   46.969</td> <td> 0.000</td> <td>    0.618</td> <td>    0.671</td>\n",
       "</tr>\n",
       "<tr>\n",
       "  <th>region_southwest</th> <td>    0.6503</td> <td>    0.013</td> <td>   51.219</td> <td> 0.000</td> <td>    0.625</td> <td>    0.675</td>\n",
       "</tr>\n",
       "</table>\n",
       "<table class=\"simpletable\">\n",
       "<tr>\n",
       "  <th>Omnibus:</th>       <td>353.673</td> <th>  Durbin-Watson:     </th> <td>   2.034</td> \n",
       "</tr>\n",
       "<tr>\n",
       "  <th>Prob(Omnibus):</th> <td> 0.000</td>  <th>  Jarque-Bera (JB):  </th> <td>1162.837</td> \n",
       "</tr>\n",
       "<tr>\n",
       "  <th>Skew:</th>          <td> 1.618</td>  <th>  Prob(JB):          </th> <td>3.11e-253</td>\n",
       "</tr>\n",
       "<tr>\n",
       "  <th>Kurtosis:</th>      <td> 6.950</td>  <th>  Cond. No.          </th> <td>3.50e+17</td> \n",
       "</tr>\n",
       "</table><br/><br/>Warnings:<br/>[1] Standard Errors assume that the covariance matrix of the errors is correctly specified.<br/>[2] The smallest eigenvalue is 2.3e-29. This might indicate that there are<br/>strong multicollinearity problems or that the design matrix is singular."
      ],
      "text/plain": [
       "<class 'statsmodels.iolib.summary.Summary'>\n",
       "\"\"\"\n",
       "                            OLS Regression Results                            \n",
       "==============================================================================\n",
       "Dep. Variable:                charges   R-squared:                       0.757\n",
       "Model:                            OLS   Adj. R-squared:                  0.755\n",
       "Method:                 Least Squares   F-statistic:                     413.7\n",
       "Date:                Fri, 29 May 2020   Prob (F-statistic):          7.72e-320\n",
       "Time:                        16:25:54   Log-Likelihood:                 231.04\n",
       "No. Observations:                1070   AIC:                            -444.1\n",
       "Df Residuals:                    1061   BIC:                            -399.3\n",
       "Df Model:                           8                                         \n",
       "Covariance Type:            nonrobust                                         \n",
       "====================================================================================\n",
       "                       coef    std err          t      P>|t|      [0.025      0.975]\n",
       "------------------------------------------------------------------------------------\n",
       "age                  0.0149      0.000     34.555      0.000       0.014       0.016\n",
       "bmi                  0.0059      0.001      5.696      0.000       0.004       0.008\n",
       "children             0.0401      0.005      8.129      0.000       0.030       0.050\n",
       "sex_female           1.3548      0.015     89.196      0.000       1.325       1.385\n",
       "sex_male             1.3226      0.015     86.766      0.000       1.293       1.352\n",
       "smoker_no            1.0018      0.015     65.924      0.000       0.972       1.032\n",
       "smoker_yes           1.6757      0.016    101.794      0.000       1.643       1.708\n",
       "region_northeast     0.7036      0.012     59.690      0.000       0.680       0.727\n",
       "region_northwest     0.6791      0.012     55.533      0.000       0.655       0.703\n",
       "region_southeast     0.6445      0.014     46.969      0.000       0.618       0.671\n",
       "region_southwest     0.6503      0.013     51.219      0.000       0.625       0.675\n",
       "==============================================================================\n",
       "Omnibus:                      353.673   Durbin-Watson:                   2.034\n",
       "Prob(Omnibus):                  0.000   Jarque-Bera (JB):             1162.837\n",
       "Skew:                           1.618   Prob(JB):                    3.11e-253\n",
       "Kurtosis:                       6.950   Cond. No.                     3.50e+17\n",
       "==============================================================================\n",
       "\n",
       "Warnings:\n",
       "[1] Standard Errors assume that the covariance matrix of the errors is correctly specified.\n",
       "[2] The smallest eigenvalue is 2.3e-29. This might indicate that there are\n",
       "strong multicollinearity problems or that the design matrix is singular.\n",
       "\"\"\""
      ]
     },
     "execution_count": 47,
     "metadata": {},
     "output_type": "execute_result"
    }
   ],
   "source": [
    "olsres.summary()"
   ]
  },
  {
   "cell_type": "markdown",
   "metadata": {},
   "source": [
    "Adjusted R^2 is less, can we improve that? May be this is not linear regression might be polynomial regression"
   ]
  },
  {
   "cell_type": "markdown",
   "metadata": {},
   "source": [
    "# Checking dergree of polynomial regression"
   ]
  },
  {
   "cell_type": "code",
   "execution_count": 48,
   "metadata": {},
   "outputs": [],
   "source": [
    "loss = []\n",
    "for i in range(1, 5):\n",
    "    poly_reg = PolynomialFeatures(degree=i)\n",
    "    X_poly = poly_reg.fit_transform(X_train)\n",
    "    pol_reg = LinearRegression()\n",
    "    pol_reg.fit(X_poly, y_train)\n",
    "    X_test_poly = poly_reg.fit_transform(X_test)\n",
    "    y_pred = pol_reg.predict(X_test_poly)\n",
    "    loss.append(mean_squared_error(10**y_pred,y_test))\n",
    "    #print(\"i = \", i)\n",
    "    #print('R Square: {:.4f} \\nLoss(MSE): {:.4f}'.format(r2_score(y_test,y_pred),mean_squared_error(y_pred,y_test)))\n",
    "    #x_ax = range(len(y_test))\n",
    "    #plt.scatter(x_ax, y_test, s=5, color=\"blue\", label=\"original\")\n",
    "    #plt.plot(x_ax, 10**y_pred, lw=0.8, color=\"red\", label=\"predicted\")\n",
    "    #plt.legend()\n",
    "    #plt.show()"
   ]
  },
  {
   "cell_type": "code",
   "execution_count": 49,
   "metadata": {},
   "outputs": [
    {
     "data": {
      "text/plain": [
       "[61079027.741164856, 24528189.468630355, 24073442.255634334, 46724276.33640901]"
      ]
     },
     "execution_count": 49,
     "metadata": {},
     "output_type": "execute_result"
    }
   ],
   "source": [
    "loss"
   ]
  },
  {
   "cell_type": "markdown",
   "metadata": {},
   "source": [
    "Loss is MSE (Mean square error). The polynomial dgree which will give least LOSS that polynomial dergee will be best fit for the data."
   ]
  },
  {
   "cell_type": "code",
   "execution_count": 50,
   "metadata": {},
   "outputs": [
    {
     "data": {
      "text/plain": [
       "2"
      ]
     },
     "execution_count": 50,
     "metadata": {},
     "output_type": "execute_result"
    }
   ],
   "source": [
    "loss.index(min(loss))"
   ]
  },
  {
   "cell_type": "code",
   "execution_count": 51,
   "metadata": {},
   "outputs": [
    {
     "data": {
      "text/plain": [
       "Text(0, 0.5, 'MSE')"
      ]
     },
     "execution_count": 51,
     "metadata": {},
     "output_type": "execute_result"
    },
    {
     "data": {
      "image/png": "[encoded data removed]",
      "text/plain": [
       "<Figure size 432x288 with 1 Axes>"
      ]
     },
     "metadata": {
      "needs_background": "light"
     },
     "output_type": "display_data"
    }
   ],
   "source": [
    "plt.plot(range(1, 5),loss)\n",
    "plt.xlabel('Degree')\n",
    "plt.ylabel('MSE')"
   ]
  },
  {
   "cell_type": "code",
   "execution_count": 52,
   "metadata": {},
   "outputs": [
    {
     "data": {
      "text/plain": [
       "<module 'matplotlib.pyplot' from 'C:\\\\Users\\\\mayan\\\\Anaconda3\\\\lib\\\\site-packages\\\\matplotlib\\\\pyplot.py'>"
      ]
     },
     "execution_count": 52,
     "metadata": {},
     "output_type": "execute_result"
    }
   ],
   "source": [
    "plt"
   ]
  },
  {
   "cell_type": "code",
   "execution_count": 53,
   "metadata": {},
   "outputs": [
    {
     "data": {
      "text/plain": [
       "2"
      ]
     },
     "execution_count": 53,
     "metadata": {},
     "output_type": "execute_result"
    }
   ],
   "source": [
    "loss.index(min(loss))"
   ]
  },
  {
   "cell_type": "markdown",
   "metadata": {},
   "source": [
    "Indexing for list starts from 0, minimum loss is at index 2 of the list so it is 3 degree polynomial regression"
   ]
  },
  {
   "cell_type": "code",
   "execution_count": 54,
   "metadata": {},
   "outputs": [],
   "source": [
    "poly_reg = PolynomialFeatures(degree=3)\n",
    "X_poly = poly_reg.fit_transform(X_train)\n",
    "pol_reg = LinearRegression()\n",
    "pol_reg.fit(X_poly, y_train)\n",
    "X_test_poly = poly_reg.fit_transform(X_test)\n",
    "y_pred = pol_reg.predict(X_test_poly)"
   ]
  },
  {
   "cell_type": "code",
   "execution_count": 55,
   "metadata": {},
   "outputs": [
    {
     "data": {
      "image/png": "[encoded data removed]",
      "text/plain": [
       "<Figure size 432x288 with 1 Axes>"
      ]
     },
     "metadata": {
      "needs_background": "light"
     },
     "output_type": "display_data"
    }
   ],
   "source": [
    "x_ax = range(len(y_test))\n",
    "plt.scatter(x_ax, y_test, s=5, color=\"blue\", label=\"original\")\n",
    "plt.plot(x_ax, 10**y_pred, lw=0.8, color=\"red\", label=\"predicted\")\n",
    "plt.legend()\n",
    "plt.show()"
   ]
  },
  {
   "cell_type": "code",
   "execution_count": 56,
   "metadata": {},
   "outputs": [
    {
     "name": "stdout",
     "output_type": "stream",
     "text": [
      "RMSE =  4906.469428779574\n",
      "ADj r*2 =  0.8320378906835684\n"
     ]
    }
   ],
   "source": [
    "\n",
    "olsmod = sm.OLS(y_train, X_poly)\n",
    "olsres = olsmod.fit()\n",
    "    \n",
    "y_pred = olsres.predict(X_test_poly)\n",
    "\n",
    "print('RMSE = ',np.sqrt(mean_squared_error(10**y_pred,y_test)))\n",
    "    \n",
    "print('ADj r*2 = ',olsres.rsquared_adj)\n",
    "    "
   ]
  },
  {
   "cell_type": "code",
   "execution_count": 57,
   "metadata": {},
   "outputs": [
    {
     "name": "stderr",
     "output_type": "stream",
     "text": [
      "C:\\Users\\mayan\\Anaconda3\\lib\\site-packages\\statsmodels\\base\\model.py:1362: RuntimeWarning: invalid value encountered in true_divide\n",
      "  return self.params / self.bse\n",
      "C:\\Users\\mayan\\Anaconda3\\lib\\site-packages\\scipy\\stats\\_distn_infrastructure.py:903: RuntimeWarning: invalid value encountered in greater\n",
      "  return (a < x) & (x < b)\n",
      "C:\\Users\\mayan\\Anaconda3\\lib\\site-packages\\scipy\\stats\\_distn_infrastructure.py:903: RuntimeWarning: invalid value encountered in less\n",
      "  return (a < x) & (x < b)\n",
      "C:\\Users\\mayan\\Anaconda3\\lib\\site-packages\\scipy\\stats\\_distn_infrastructure.py:1912: RuntimeWarning: invalid value encountered in less_equal\n",
      "  cond2 = cond0 & (x <= _a)\n"
     ]
    },
    {
     "data": {
      "text/html": [
       "<table class=\"simpletable\">\n",
       "<caption>OLS Regression Results</caption>\n",
       "<tr>\n",
       "  <th>Dep. Variable:</th>         <td>charges</td>     <th>  R-squared:         </th> <td>   0.848</td>\n",
       "</tr>\n",
       "<tr>\n",
       "  <th>Model:</th>                   <td>OLS</td>       <th>  Adj. R-squared:    </th> <td>   0.832</td>\n",
       "</tr>\n",
       "<tr>\n",
       "  <th>Method:</th>             <td>Least Squares</td>  <th>  F-statistic:       </th> <td>   53.96</td>\n",
       "</tr>\n",
       "<tr>\n",
       "  <th>Date:</th>             <td>Fri, 29 May 2020</td> <th>  Prob (F-statistic):</th>  <td>  0.00</td> \n",
       "</tr>\n",
       "<tr>\n",
       "  <th>Time:</th>                 <td>16:26:02</td>     <th>  Log-Likelihood:    </th> <td>  480.68</td>\n",
       "</tr>\n",
       "<tr>\n",
       "  <th>No. Observations:</th>      <td>  1070</td>      <th>  AIC:               </th> <td>  -759.4</td>\n",
       "</tr>\n",
       "<tr>\n",
       "  <th>Df Residuals:</th>          <td>   969</td>      <th>  BIC:               </th> <td>  -256.8</td>\n",
       "</tr>\n",
       "<tr>\n",
       "  <th>Df Model:</th>              <td>   100</td>      <th>                     </th>     <td> </td>   \n",
       "</tr>\n",
       "<tr>\n",
       "  <th>Covariance Type:</th>      <td>nonrobust</td>    <th>                     </th>     <td> </td>   \n",
       "</tr>\n",
       "</table>\n",
       "<table class=\"simpletable\">\n",
       "<tr>\n",
       "    <td></td>       <th>coef</th>     <th>std err</th>      <th>t</th>      <th>P>|t|</th>  <th>[0.025</th>    <th>0.975]</th>  \n",
       "</tr>\n",
       "<tr>\n",
       "  <th>const</th> <td>    0.5121</td> <td>    0.093</td> <td>    5.531</td> <td> 0.000</td> <td>    0.330</td> <td>    0.694</td>\n",
       "</tr>\n",
       "<tr>\n",
       "  <th>x1</th>    <td>    0.0051</td> <td>    0.005</td> <td>    1.099</td> <td> 0.272</td> <td>   -0.004</td> <td>    0.014</td>\n",
       "</tr>\n",
       "<tr>\n",
       "  <th>x2</th>    <td>   -0.0036</td> <td>    0.012</td> <td>   -0.292</td> <td> 0.770</td> <td>   -0.027</td> <td>    0.020</td>\n",
       "</tr>\n",
       "<tr>\n",
       "  <th>x3</th>    <td>    0.0770</td> <td>    0.036</td> <td>    2.116</td> <td> 0.035</td> <td>    0.006</td> <td>    0.148</td>\n",
       "</tr>\n",
       "<tr>\n",
       "  <th>x4</th>    <td>    0.2874</td> <td>    0.054</td> <td>    5.359</td> <td> 0.000</td> <td>    0.182</td> <td>    0.393</td>\n",
       "</tr>\n",
       "<tr>\n",
       "  <th>x5</th>    <td>    0.2248</td> <td>    0.053</td> <td>    4.248</td> <td> 0.000</td> <td>    0.121</td> <td>    0.329</td>\n",
       "</tr>\n",
       "<tr>\n",
       "  <th>x6</th>    <td>    0.2316</td> <td>    0.052</td> <td>    4.468</td> <td> 0.000</td> <td>    0.130</td> <td>    0.333</td>\n",
       "</tr>\n",
       "<tr>\n",
       "  <th>x7</th>    <td>    0.2805</td> <td>    0.065</td> <td>    4.343</td> <td> 0.000</td> <td>    0.154</td> <td>    0.407</td>\n",
       "</tr>\n",
       "<tr>\n",
       "  <th>x8</th>    <td>    0.1453</td> <td>    0.041</td> <td>    3.547</td> <td> 0.000</td> <td>    0.065</td> <td>    0.226</td>\n",
       "</tr>\n",
       "<tr>\n",
       "  <th>x9</th>    <td>    0.1625</td> <td>    0.049</td> <td>    3.310</td> <td> 0.001</td> <td>    0.066</td> <td>    0.259</td>\n",
       "</tr>\n",
       "<tr>\n",
       "  <th>x10</th>   <td>    0.1436</td> <td>    0.060</td> <td>    2.401</td> <td> 0.017</td> <td>    0.026</td> <td>    0.261</td>\n",
       "</tr>\n",
       "<tr>\n",
       "  <th>x11</th>   <td>    0.0607</td> <td>    0.043</td> <td>    1.410</td> <td> 0.159</td> <td>   -0.024</td> <td>    0.145</td>\n",
       "</tr>\n",
       "<tr>\n",
       "  <th>x12</th>   <td> 9.725e-06</td> <td>    0.000</td> <td>    0.063</td> <td> 0.949</td> <td>   -0.000</td> <td>    0.000</td>\n",
       "</tr>\n",
       "<tr>\n",
       "  <th>x13</th>   <td>-8.081e-05</td> <td>    0.000</td> <td>   -0.267</td> <td> 0.790</td> <td>   -0.001</td> <td>    0.001</td>\n",
       "</tr>\n",
       "<tr>\n",
       "  <th>x14</th>   <td>   -0.0051</td> <td>    0.001</td> <td>   -3.786</td> <td> 0.000</td> <td>   -0.008</td> <td>   -0.002</td>\n",
       "</tr>\n",
       "<tr>\n",
       "  <th>x15</th>   <td>   -0.0007</td> <td>    0.003</td> <td>   -0.255</td> <td> 0.799</td> <td>   -0.006</td> <td>    0.005</td>\n",
       "</tr>\n",
       "<tr>\n",
       "  <th>x16</th>   <td>    0.0058</td> <td>    0.003</td> <td>    2.301</td> <td> 0.022</td> <td>    0.001</td> <td>    0.011</td>\n",
       "</tr>\n",
       "<tr>\n",
       "  <th>x17</th>   <td>    0.0069</td> <td>    0.003</td> <td>    2.602</td> <td> 0.009</td> <td>    0.002</td> <td>    0.012</td>\n",
       "</tr>\n",
       "<tr>\n",
       "  <th>x18</th>   <td>   -0.0018</td> <td>    0.003</td> <td>   -0.614</td> <td> 0.539</td> <td>   -0.007</td> <td>    0.004</td>\n",
       "</tr>\n",
       "<tr>\n",
       "  <th>x19</th>   <td>    0.0008</td> <td>    0.002</td> <td>    0.408</td> <td> 0.684</td> <td>   -0.003</td> <td>    0.005</td>\n",
       "</tr>\n",
       "<tr>\n",
       "  <th>x20</th>   <td>   -0.0007</td> <td>    0.002</td> <td>   -0.318</td> <td> 0.750</td> <td>   -0.005</td> <td>    0.004</td>\n",
       "</tr>\n",
       "<tr>\n",
       "  <th>x21</th>   <td>    0.0011</td> <td>    0.002</td> <td>    0.470</td> <td> 0.639</td> <td>   -0.003</td> <td>    0.006</td>\n",
       "</tr>\n",
       "<tr>\n",
       "  <th>x22</th>   <td>    0.0039</td> <td>    0.002</td> <td>    1.779</td> <td> 0.076</td> <td>   -0.000</td> <td>    0.008</td>\n",
       "</tr>\n",
       "<tr>\n",
       "  <th>x23</th>   <td>    0.0006</td> <td>    0.001</td> <td>    0.916</td> <td> 0.360</td> <td>   -0.001</td> <td>    0.002</td>\n",
       "</tr>\n",
       "<tr>\n",
       "  <th>x24</th>   <td>    0.0005</td> <td>    0.003</td> <td>    0.157</td> <td> 0.875</td> <td>   -0.006</td> <td>    0.007</td>\n",
       "</tr>\n",
       "<tr>\n",
       "  <th>x25</th>   <td>   -0.0011</td> <td>    0.007</td> <td>   -0.155</td> <td> 0.877</td> <td>   -0.014</td> <td>    0.012</td>\n",
       "</tr>\n",
       "<tr>\n",
       "  <th>x26</th>   <td>   -0.0025</td> <td>    0.007</td> <td>   -0.373</td> <td> 0.709</td> <td>   -0.016</td> <td>    0.011</td>\n",
       "</tr>\n",
       "<tr>\n",
       "  <th>x27</th>   <td>   -0.0118</td> <td>    0.007</td> <td>   -1.745</td> <td> 0.081</td> <td>   -0.025</td> <td>    0.001</td>\n",
       "</tr>\n",
       "<tr>\n",
       "  <th>x28</th>   <td>    0.0082</td> <td>    0.008</td> <td>    1.089</td> <td> 0.277</td> <td>   -0.007</td> <td>    0.023</td>\n",
       "</tr>\n",
       "<tr>\n",
       "  <th>x29</th>   <td>   -0.0024</td> <td>    0.005</td> <td>   -0.479</td> <td> 0.632</td> <td>   -0.012</td> <td>    0.007</td>\n",
       "</tr>\n",
       "<tr>\n",
       "  <th>x30</th>   <td>   -0.0034</td> <td>    0.006</td> <td>   -0.569</td> <td> 0.569</td> <td>   -0.015</td> <td>    0.008</td>\n",
       "</tr>\n",
       "<tr>\n",
       "  <th>x31</th>   <td>   -0.0023</td> <td>    0.007</td> <td>   -0.311</td> <td> 0.756</td> <td>   -0.017</td> <td>    0.012</td>\n",
       "</tr>\n",
       "<tr>\n",
       "  <th>x32</th>   <td>    0.0045</td> <td>    0.006</td> <td>    0.804</td> <td> 0.422</td> <td>   -0.006</td> <td>    0.015</td>\n",
       "</tr>\n",
       "<tr>\n",
       "  <th>x33</th>   <td>   -0.0199</td> <td>    0.012</td> <td>   -1.620</td> <td> 0.106</td> <td>   -0.044</td> <td>    0.004</td>\n",
       "</tr>\n",
       "<tr>\n",
       "  <th>x34</th>   <td>    0.0412</td> <td>    0.021</td> <td>    1.928</td> <td> 0.054</td> <td>   -0.001</td> <td>    0.083</td>\n",
       "</tr>\n",
       "<tr>\n",
       "  <th>x35</th>   <td>    0.0358</td> <td>    0.021</td> <td>    1.719</td> <td> 0.086</td> <td>   -0.005</td> <td>    0.077</td>\n",
       "</tr>\n",
       "<tr>\n",
       "  <th>x36</th>   <td>    0.0688</td> <td>    0.022</td> <td>    3.077</td> <td> 0.002</td> <td>    0.025</td> <td>    0.113</td>\n",
       "</tr>\n",
       "<tr>\n",
       "  <th>x37</th>   <td>    0.0081</td> <td>    0.024</td> <td>    0.336</td> <td> 0.737</td> <td>   -0.039</td> <td>    0.056</td>\n",
       "</tr>\n",
       "<tr>\n",
       "  <th>x38</th>   <td>    0.0415</td> <td>    0.017</td> <td>    2.464</td> <td> 0.014</td> <td>    0.008</td> <td>    0.075</td>\n",
       "</tr>\n",
       "<tr>\n",
       "  <th>x39</th>   <td>    0.0221</td> <td>    0.020</td> <td>    1.085</td> <td> 0.278</td> <td>   -0.018</td> <td>    0.062</td>\n",
       "</tr>\n",
       "<tr>\n",
       "  <th>x40</th>   <td>    0.0108</td> <td>    0.021</td> <td>    0.506</td> <td> 0.613</td> <td>   -0.031</td> <td>    0.052</td>\n",
       "</tr>\n",
       "<tr>\n",
       "  <th>x41</th>   <td>    0.0026</td> <td>    0.021</td> <td>    0.126</td> <td> 0.900</td> <td>   -0.038</td> <td>    0.043</td>\n",
       "</tr>\n",
       "<tr>\n",
       "  <th>x42</th>   <td>    0.2874</td> <td>    0.054</td> <td>    5.359</td> <td> 0.000</td> <td>    0.182</td> <td>    0.393</td>\n",
       "</tr>\n",
       "<tr>\n",
       "  <th>x43</th>   <td> 1.144e-14</td> <td> 2.71e-15</td> <td>    4.226</td> <td> 0.000</td> <td> 6.13e-15</td> <td> 1.67e-14</td>\n",
       "</tr>\n",
       "<tr>\n",
       "  <th>x44</th>   <td>    0.1478</td> <td>    0.032</td> <td>    4.673</td> <td> 0.000</td> <td>    0.086</td> <td>    0.210</td>\n",
       "</tr>\n",
       "<tr>\n",
       "  <th>x45</th>   <td>    0.1396</td> <td>    0.036</td> <td>    3.890</td> <td> 0.000</td> <td>    0.069</td> <td>    0.210</td>\n",
       "</tr>\n",
       "<tr>\n",
       "  <th>x46</th>   <td>    0.0776</td> <td>    0.027</td> <td>    2.913</td> <td> 0.004</td> <td>    0.025</td> <td>    0.130</td>\n",
       "</tr>\n",
       "<tr>\n",
       "  <th>x47</th>   <td>    0.0977</td> <td>    0.032</td> <td>    3.068</td> <td> 0.002</td> <td>    0.035</td> <td>    0.160</td>\n",
       "</tr>\n",
       "<tr>\n",
       "  <th>x48</th>   <td>    0.0708</td> <td>    0.037</td> <td>    1.929</td> <td> 0.054</td> <td>   -0.001</td> <td>    0.143</td>\n",
       "</tr>\n",
       "<tr>\n",
       "  <th>x49</th>   <td>    0.0413</td> <td>    0.025</td> <td>    1.656</td> <td> 0.098</td> <td>   -0.008</td> <td>    0.090</td>\n",
       "</tr>\n",
       "<tr>\n",
       "  <th>x50</th>   <td>    0.2248</td> <td>    0.053</td> <td>    4.248</td> <td> 0.000</td> <td>    0.121</td> <td>    0.329</td>\n",
       "</tr>\n",
       "<tr>\n",
       "  <th>x51</th>   <td>    0.0838</td> <td>    0.030</td> <td>    2.802</td> <td> 0.005</td> <td>    0.025</td> <td>    0.143</td>\n",
       "</tr>\n",
       "<tr>\n",
       "  <th>x52</th>   <td>    0.1410</td> <td>    0.039</td> <td>    3.597</td> <td> 0.000</td> <td>    0.064</td> <td>    0.218</td>\n",
       "</tr>\n",
       "<tr>\n",
       "  <th>x53</th>   <td>    0.0678</td> <td>    0.024</td> <td>    2.783</td> <td> 0.005</td> <td>    0.020</td> <td>    0.116</td>\n",
       "</tr>\n",
       "<tr>\n",
       "  <th>x54</th>   <td>    0.0648</td> <td>    0.028</td> <td>    2.296</td> <td> 0.022</td> <td>    0.009</td> <td>    0.120</td>\n",
       "</tr>\n",
       "<tr>\n",
       "  <th>x55</th>   <td>    0.0728</td> <td>    0.034</td> <td>    2.127</td> <td> 0.034</td> <td>    0.006</td> <td>    0.140</td>\n",
       "</tr>\n",
       "<tr>\n",
       "  <th>x56</th>   <td>    0.0195</td> <td>    0.029</td> <td>    0.666</td> <td> 0.506</td> <td>   -0.038</td> <td>    0.077</td>\n",
       "</tr>\n",
       "<tr>\n",
       "  <th>x57</th>   <td>    0.2316</td> <td>    0.052</td> <td>    4.468</td> <td> 0.000</td> <td>    0.130</td> <td>    0.333</td>\n",
       "</tr>\n",
       "<tr>\n",
       "  <th>x58</th>   <td> 4.454e-15</td> <td>  9.9e-16</td> <td>    4.500</td> <td> 0.000</td> <td> 2.51e-15</td> <td>  6.4e-15</td>\n",
       "</tr>\n",
       "<tr>\n",
       "  <th>x59</th>   <td>    0.0491</td> <td>    0.027</td> <td>    1.806</td> <td> 0.071</td> <td>   -0.004</td> <td>    0.102</td>\n",
       "</tr>\n",
       "<tr>\n",
       "  <th>x60</th>   <td>    0.1083</td> <td>    0.029</td> <td>    3.699</td> <td> 0.000</td> <td>    0.051</td> <td>    0.166</td>\n",
       "</tr>\n",
       "<tr>\n",
       "  <th>x61</th>   <td>    0.0494</td> <td>    0.035</td> <td>    1.422</td> <td> 0.155</td> <td>   -0.019</td> <td>    0.118</td>\n",
       "</tr>\n",
       "<tr>\n",
       "  <th>x62</th>   <td>    0.0248</td> <td>    0.027</td> <td>    0.907</td> <td> 0.364</td> <td>   -0.029</td> <td>    0.078</td>\n",
       "</tr>\n",
       "<tr>\n",
       "  <th>x63</th>   <td>    0.2805</td> <td>    0.065</td> <td>    4.343</td> <td> 0.000</td> <td>    0.154</td> <td>    0.407</td>\n",
       "</tr>\n",
       "<tr>\n",
       "  <th>x64</th>   <td>    0.0963</td> <td>    0.027</td> <td>    3.597</td> <td> 0.000</td> <td>    0.044</td> <td>    0.149</td>\n",
       "</tr>\n",
       "<tr>\n",
       "  <th>x65</th>   <td>    0.0542</td> <td>    0.039</td> <td>    1.385</td> <td> 0.166</td> <td>   -0.023</td> <td>    0.131</td>\n",
       "</tr>\n",
       "<tr>\n",
       "  <th>x66</th>   <td>    0.0942</td> <td>    0.042</td> <td>    2.224</td> <td> 0.026</td> <td>    0.011</td> <td>    0.177</td>\n",
       "</tr>\n",
       "<tr>\n",
       "  <th>x67</th>   <td>    0.0359</td> <td>    0.036</td> <td>    1.007</td> <td> 0.314</td> <td>   -0.034</td> <td>    0.106</td>\n",
       "</tr>\n",
       "<tr>\n",
       "  <th>x68</th>   <td>    0.1453</td> <td>    0.041</td> <td>    3.547</td> <td> 0.000</td> <td>    0.065</td> <td>    0.226</td>\n",
       "</tr>\n",
       "<tr>\n",
       "  <th>x69</th>   <td>-2.166e-15</td> <td> 6.13e-16</td> <td>   -3.531</td> <td> 0.000</td> <td>-3.37e-15</td> <td>-9.62e-16</td>\n",
       "</tr>\n",
       "<tr>\n",
       "  <th>x70</th>   <td> 7.606e-16</td> <td> 2.01e-16</td> <td>    3.787</td> <td> 0.000</td> <td> 3.66e-16</td> <td> 1.15e-15</td>\n",
       "</tr>\n",
       "<tr>\n",
       "  <th>x71</th>   <td>-1.372e-15</td> <td> 3.58e-16</td> <td>   -3.830</td> <td> 0.000</td> <td>-2.07e-15</td> <td>-6.69e-16</td>\n",
       "</tr>\n",
       "<tr>\n",
       "  <th>x72</th>   <td>    0.1625</td> <td>    0.049</td> <td>    3.310</td> <td> 0.001</td> <td>    0.066</td> <td>    0.259</td>\n",
       "</tr>\n",
       "<tr>\n",
       "  <th>x73</th>   <td> 2.536e-16</td> <td> 2.09e-16</td> <td>    1.213</td> <td> 0.225</td> <td>-1.57e-16</td> <td> 6.64e-16</td>\n",
       "</tr>\n",
       "<tr>\n",
       "  <th>x74</th>   <td> 7.871e-16</td> <td> 2.22e-16</td> <td>    3.546</td> <td> 0.000</td> <td> 3.52e-16</td> <td> 1.22e-15</td>\n",
       "</tr>\n",
       "<tr>\n",
       "  <th>x75</th>   <td>    0.1436</td> <td>    0.060</td> <td>    2.401</td> <td> 0.017</td> <td>    0.026</td> <td>    0.261</td>\n",
       "</tr>\n",
       "<tr>\n",
       "  <th>x76</th>   <td>-3.482e-17</td> <td> 2.36e-16</td> <td>   -0.147</td> <td> 0.883</td> <td>-4.99e-16</td> <td> 4.29e-16</td>\n",
       "</tr>\n",
       "<tr>\n",
       "  <th>x77</th>   <td>    0.0607</td> <td>    0.043</td> <td>    1.410</td> <td> 0.159</td> <td>   -0.024</td> <td>    0.145</td>\n",
       "</tr>\n",
       "<tr>\n",
       "  <th>x78</th>   <td>-6.474e-07</td> <td> 2.68e-06</td> <td>   -0.242</td> <td> 0.809</td> <td> -5.9e-06</td> <td>  4.6e-06</td>\n",
       "</tr>\n",
       "<tr>\n",
       "  <th>x79</th>   <td>-2.133e-06</td> <td> 5.98e-06</td> <td>   -0.357</td> <td> 0.721</td> <td>-1.39e-05</td> <td> 9.59e-06</td>\n",
       "</tr>\n",
       "<tr>\n",
       "  <th>x80</th>   <td> 8.839e-05</td> <td> 2.91e-05</td> <td>    3.037</td> <td> 0.002</td> <td> 3.13e-05</td> <td>    0.000</td>\n",
       "</tr>\n",
       "<tr>\n",
       "  <th>x81</th>   <td> 7.583e-05</td> <td> 8.44e-05</td> <td>    0.898</td> <td> 0.369</td> <td>-8.98e-05</td> <td>    0.000</td>\n",
       "</tr>\n",
       "<tr>\n",
       "  <th>x82</th>   <td>-6.611e-05</td> <td> 8.22e-05</td> <td>   -0.804</td> <td> 0.422</td> <td>   -0.000</td> <td> 9.53e-05</td>\n",
       "</tr>\n",
       "<tr>\n",
       "  <th>x83</th>   <td>-6.372e-05</td> <td> 8.46e-05</td> <td>   -0.753</td> <td> 0.452</td> <td>   -0.000</td> <td>    0.000</td>\n",
       "</tr>\n",
       "<tr>\n",
       "  <th>x84</th>   <td> 7.344e-05</td> <td> 8.78e-05</td> <td>    0.836</td> <td> 0.403</td> <td>-9.89e-05</td> <td>    0.000</td>\n",
       "</tr>\n",
       "<tr>\n",
       "  <th>x85</th>   <td> 3.639e-05</td> <td> 6.84e-05</td> <td>    0.532</td> <td> 0.595</td> <td>-9.78e-05</td> <td>    0.000</td>\n",
       "</tr>\n",
       "<tr>\n",
       "  <th>x86</th>   <td> 7.445e-05</td> <td> 6.89e-05</td> <td>    1.080</td> <td> 0.280</td> <td>-6.09e-05</td> <td>    0.000</td>\n",
       "</tr>\n",
       "<tr>\n",
       "  <th>x87</th>   <td> 4.939e-06</td> <td> 6.79e-05</td> <td>    0.073</td> <td> 0.942</td> <td>   -0.000</td> <td>    0.000</td>\n",
       "</tr>\n",
       "<tr>\n",
       "  <th>x88</th>   <td>   -0.0001</td> <td> 7.22e-05</td> <td>   -1.469</td> <td> 0.142</td> <td>   -0.000</td> <td> 3.56e-05</td>\n",
       "</tr>\n",
       "<tr>\n",
       "  <th>x89</th>   <td> 3.861e-06</td> <td> 8.78e-06</td> <td>    0.440</td> <td> 0.660</td> <td>-1.34e-05</td> <td> 2.11e-05</td>\n",
       "</tr>\n",
       "<tr>\n",
       "  <th>x90</th>   <td> 4.411e-05</td> <td> 6.57e-05</td> <td>    0.671</td> <td> 0.502</td> <td>-8.48e-05</td> <td>    0.000</td>\n",
       "</tr>\n",
       "<tr>\n",
       "  <th>x91</th>   <td> 2.859e-05</td> <td>    0.000</td> <td>    0.176</td> <td> 0.860</td> <td>   -0.000</td> <td>    0.000</td>\n",
       "</tr>\n",
       "<tr>\n",
       "  <th>x92</th>   <td>   -0.0001</td> <td>    0.000</td> <td>   -0.650</td> <td> 0.516</td> <td>   -0.000</td> <td>    0.000</td>\n",
       "</tr>\n",
       "<tr>\n",
       "  <th>x93</th>   <td> 8.069e-06</td> <td>    0.000</td> <td>    0.046</td> <td> 0.963</td> <td>   -0.000</td> <td>    0.000</td>\n",
       "</tr>\n",
       "<tr>\n",
       "  <th>x94</th>   <td>-8.888e-05</td> <td>    0.000</td> <td>   -0.500</td> <td> 0.617</td> <td>   -0.000</td> <td>    0.000</td>\n",
       "</tr>\n",
       "<tr>\n",
       "  <th>x95</th>   <td>   -0.0001</td> <td>    0.000</td> <td>   -0.888</td> <td> 0.375</td> <td>   -0.000</td> <td>    0.000</td>\n",
       "</tr>\n",
       "<tr>\n",
       "  <th>x96</th>   <td> 4.977e-06</td> <td>    0.000</td> <td>    0.033</td> <td> 0.974</td> <td>   -0.000</td> <td>    0.000</td>\n",
       "</tr>\n",
       "<tr>\n",
       "  <th>x97</th>   <td> 7.213e-06</td> <td>    0.000</td> <td>    0.047</td> <td> 0.963</td> <td>   -0.000</td> <td>    0.000</td>\n",
       "</tr>\n",
       "<tr>\n",
       "  <th>x98</th>   <td> 2.178e-05</td> <td>    0.000</td> <td>    0.153</td> <td> 0.879</td> <td>   -0.000</td> <td>    0.000</td>\n",
       "</tr>\n",
       "<tr>\n",
       "  <th>x99</th>   <td>    0.0006</td> <td>    0.000</td> <td>    2.085</td> <td> 0.037</td> <td> 3.65e-05</td> <td>    0.001</td>\n",
       "</tr>\n",
       "<tr>\n",
       "  <th>x100</th>  <td>   -0.0023</td> <td>    0.001</td> <td>   -2.957</td> <td> 0.003</td> <td>   -0.004</td> <td>   -0.001</td>\n",
       "</tr>\n",
       "<tr>\n",
       "  <th>x101</th>  <td>   -0.0028</td> <td>    0.001</td> <td>   -3.826</td> <td> 0.000</td> <td>   -0.004</td> <td>   -0.001</td>\n",
       "</tr>\n",
       "<tr>\n",
       "  <th>x102</th>  <td>   -0.0038</td> <td>    0.001</td> <td>   -4.787</td> <td> 0.000</td> <td>   -0.005</td> <td>   -0.002</td>\n",
       "</tr>\n",
       "<tr>\n",
       "  <th>x103</th>  <td>   -0.0012</td> <td>    0.001</td> <td>   -1.542</td> <td> 0.123</td> <td>   -0.003</td> <td>    0.000</td>\n",
       "</tr>\n",
       "<tr>\n",
       "  <th>x104</th>  <td>   -0.0016</td> <td>    0.001</td> <td>   -2.606</td> <td> 0.009</td> <td>   -0.003</td> <td>   -0.000</td>\n",
       "</tr>\n",
       "<tr>\n",
       "  <th>x105</th>  <td>   -0.0020</td> <td>    0.001</td> <td>   -2.961</td> <td> 0.003</td> <td>   -0.003</td> <td>   -0.001</td>\n",
       "</tr>\n",
       "<tr>\n",
       "  <th>x106</th>  <td>   -0.0008</td> <td>    0.001</td> <td>   -1.161</td> <td> 0.246</td> <td>   -0.002</td> <td>    0.001</td>\n",
       "</tr>\n",
       "<tr>\n",
       "  <th>x107</th>  <td>   -0.0006</td> <td>    0.001</td> <td>   -0.851</td> <td> 0.395</td> <td>   -0.002</td> <td>    0.001</td>\n",
       "</tr>\n",
       "<tr>\n",
       "  <th>x108</th>  <td>   -0.0007</td> <td>    0.003</td> <td>   -0.255</td> <td> 0.799</td> <td>   -0.006</td> <td>    0.005</td>\n",
       "</tr>\n",
       "<tr>\n",
       "  <th>x109</th>  <td>         0</td> <td>        0</td> <td>      nan</td> <td>   nan</td> <td>        0</td> <td>        0</td>\n",
       "</tr>\n",
       "<tr>\n",
       "  <th>x110</th>  <td>    0.0017</td> <td>    0.002</td> <td>    1.110</td> <td> 0.267</td> <td>   -0.001</td> <td>    0.005</td>\n",
       "</tr>\n",
       "<tr>\n",
       "  <th>x111</th>  <td>   -0.0024</td> <td>    0.002</td> <td>   -1.482</td> <td> 0.139</td> <td>   -0.006</td> <td>    0.001</td>\n",
       "</tr>\n",
       "<tr>\n",
       "  <th>x112</th>  <td> 1.106e-05</td> <td>    0.001</td> <td>    0.008</td> <td> 0.993</td> <td>   -0.003</td> <td>    0.003</td>\n",
       "</tr>\n",
       "<tr>\n",
       "  <th>x113</th>  <td>   -0.0019</td> <td>    0.001</td> <td>   -1.355</td> <td> 0.176</td> <td>   -0.005</td> <td>    0.001</td>\n",
       "</tr>\n",
       "<tr>\n",
       "  <th>x114</th>  <td>    0.0004</td> <td>    0.001</td> <td>    0.302</td> <td> 0.763</td> <td>   -0.002</td> <td>    0.003</td>\n",
       "</tr>\n",
       "<tr>\n",
       "  <th>x115</th>  <td>    0.0008</td> <td>    0.001</td> <td>    0.568</td> <td> 0.570</td> <td>   -0.002</td> <td>    0.003</td>\n",
       "</tr>\n",
       "<tr>\n",
       "  <th>x116</th>  <td>    0.0058</td> <td>    0.003</td> <td>    2.301</td> <td> 0.022</td> <td>    0.001</td> <td>    0.011</td>\n",
       "</tr>\n",
       "<tr>\n",
       "  <th>x117</th>  <td>    0.0052</td> <td>    0.001</td> <td>    3.532</td> <td> 0.000</td> <td>    0.002</td> <td>    0.008</td>\n",
       "</tr>\n",
       "<tr>\n",
       "  <th>x118</th>  <td>    0.0006</td> <td>    0.002</td> <td>    0.386</td> <td> 0.699</td> <td>   -0.003</td> <td>    0.004</td>\n",
       "</tr>\n",
       "<tr>\n",
       "  <th>x119</th>  <td>    0.0008</td> <td>    0.001</td> <td>    0.713</td> <td> 0.476</td> <td>   -0.001</td> <td>    0.003</td>\n",
       "</tr>\n",
       "<tr>\n",
       "  <th>x120</th>  <td>    0.0012</td> <td>    0.001</td> <td>    0.890</td> <td> 0.374</td> <td>   -0.001</td> <td>    0.004</td>\n",
       "</tr>\n",
       "<tr>\n",
       "  <th>x121</th>  <td>    0.0007</td> <td>    0.001</td> <td>    0.492</td> <td> 0.623</td> <td>   -0.002</td> <td>    0.003</td>\n",
       "</tr>\n",
       "<tr>\n",
       "  <th>x122</th>  <td>    0.0032</td> <td>    0.001</td> <td>    2.451</td> <td> 0.014</td> <td>    0.001</td> <td>    0.006</td>\n",
       "</tr>\n",
       "<tr>\n",
       "  <th>x123</th>  <td>    0.0069</td> <td>    0.003</td> <td>    2.602</td> <td> 0.009</td> <td>    0.002</td> <td>    0.012</td>\n",
       "</tr>\n",
       "<tr>\n",
       "  <th>x124</th>  <td>         0</td> <td>        0</td> <td>      nan</td> <td>   nan</td> <td>        0</td> <td>        0</td>\n",
       "</tr>\n",
       "<tr>\n",
       "  <th>x125</th>  <td>    0.0006</td> <td>    0.001</td> <td>    0.452</td> <td> 0.651</td> <td>   -0.002</td> <td>    0.003</td>\n",
       "</tr>\n",
       "<tr>\n",
       "  <th>x126</th>  <td>-8.786e-05</td> <td>    0.001</td> <td>   -0.063</td> <td> 0.950</td> <td>   -0.003</td> <td>    0.003</td>\n",
       "</tr>\n",
       "<tr>\n",
       "  <th>x127</th>  <td>    0.0023</td> <td>    0.001</td> <td>    1.693</td> <td> 0.091</td> <td>   -0.000</td> <td>    0.005</td>\n",
       "</tr>\n",
       "<tr>\n",
       "  <th>x128</th>  <td>    0.0040</td> <td>    0.001</td> <td>    2.979</td> <td> 0.003</td> <td>    0.001</td> <td>    0.007</td>\n",
       "</tr>\n",
       "<tr>\n",
       "  <th>x129</th>  <td>   -0.0018</td> <td>    0.003</td> <td>   -0.614</td> <td> 0.539</td> <td>   -0.007</td> <td>    0.004</td>\n",
       "</tr>\n",
       "<tr>\n",
       "  <th>x130</th>  <td>    0.0002</td> <td>    0.001</td> <td>    0.167</td> <td> 0.867</td> <td>   -0.002</td> <td>    0.003</td>\n",
       "</tr>\n",
       "<tr>\n",
       "  <th>x131</th>  <td>   -0.0006</td> <td>    0.002</td> <td>   -0.422</td> <td> 0.673</td> <td>   -0.004</td> <td>    0.002</td>\n",
       "</tr>\n",
       "<tr>\n",
       "  <th>x132</th>  <td>   -0.0013</td> <td>    0.002</td> <td>   -0.799</td> <td> 0.424</td> <td>   -0.004</td> <td>    0.002</td>\n",
       "</tr>\n",
       "<tr>\n",
       "  <th>x133</th>  <td>   -0.0001</td> <td>    0.002</td> <td>   -0.063</td> <td> 0.950</td> <td>   -0.003</td> <td>    0.003</td>\n",
       "</tr>\n",
       "<tr>\n",
       "  <th>x134</th>  <td>    0.0008</td> <td>    0.002</td> <td>    0.408</td> <td> 0.684</td> <td>   -0.003</td> <td>    0.005</td>\n",
       "</tr>\n",
       "<tr>\n",
       "  <th>x135</th>  <td>         0</td> <td>        0</td> <td>      nan</td> <td>   nan</td> <td>        0</td> <td>        0</td>\n",
       "</tr>\n",
       "<tr>\n",
       "  <th>x136</th>  <td>         0</td> <td>        0</td> <td>      nan</td> <td>   nan</td> <td>        0</td> <td>        0</td>\n",
       "</tr>\n",
       "<tr>\n",
       "  <th>x137</th>  <td>         0</td> <td>        0</td> <td>      nan</td> <td>   nan</td> <td>        0</td> <td>        0</td>\n",
       "</tr>\n",
       "<tr>\n",
       "  <th>x138</th>  <td>   -0.0007</td> <td>    0.002</td> <td>   -0.318</td> <td> 0.750</td> <td>   -0.005</td> <td>    0.004</td>\n",
       "</tr>\n",
       "<tr>\n",
       "  <th>x139</th>  <td>         0</td> <td>        0</td> <td>      nan</td> <td>   nan</td> <td>        0</td> <td>        0</td>\n",
       "</tr>\n",
       "<tr>\n",
       "  <th>x140</th>  <td>         0</td> <td>        0</td> <td>      nan</td> <td>   nan</td> <td>        0</td> <td>        0</td>\n",
       "</tr>\n",
       "<tr>\n",
       "  <th>x141</th>  <td>    0.0011</td> <td>    0.002</td> <td>    0.470</td> <td> 0.639</td> <td>   -0.003</td> <td>    0.006</td>\n",
       "</tr>\n",
       "<tr>\n",
       "  <th>x142</th>  <td>         0</td> <td>        0</td> <td>      nan</td> <td>   nan</td> <td>        0</td> <td>        0</td>\n",
       "</tr>\n",
       "<tr>\n",
       "  <th>x143</th>  <td>    0.0039</td> <td>    0.002</td> <td>    1.779</td> <td> 0.076</td> <td>   -0.000</td> <td>    0.008</td>\n",
       "</tr>\n",
       "<tr>\n",
       "  <th>x144</th>  <td>-1.851e-05</td> <td> 1.53e-05</td> <td>   -1.211</td> <td> 0.226</td> <td>-4.85e-05</td> <td> 1.15e-05</td>\n",
       "</tr>\n",
       "<tr>\n",
       "  <th>x145</th>  <td> -5.25e-05</td> <td>    0.000</td> <td>   -0.467</td> <td> 0.640</td> <td>   -0.000</td> <td>    0.000</td>\n",
       "</tr>\n",
       "<tr>\n",
       "  <th>x146</th>  <td>    0.0002</td> <td>    0.000</td> <td>    0.631</td> <td> 0.528</td> <td>   -0.000</td> <td>    0.001</td>\n",
       "</tr>\n",
       "<tr>\n",
       "  <th>x147</th>  <td>    0.0004</td> <td>    0.000</td> <td>    1.071</td> <td> 0.285</td> <td>   -0.000</td> <td>    0.001</td>\n",
       "</tr>\n",
       "<tr>\n",
       "  <th>x148</th>  <td>    0.0005</td> <td>    0.000</td> <td>    1.424</td> <td> 0.155</td> <td>   -0.000</td> <td>    0.001</td>\n",
       "</tr>\n",
       "<tr>\n",
       "  <th>x149</th>  <td> 8.524e-05</td> <td>    0.000</td> <td>    0.233</td> <td> 0.816</td> <td>   -0.001</td> <td>    0.001</td>\n",
       "</tr>\n",
       "<tr>\n",
       "  <th>x150</th>  <td>    0.0003</td> <td>    0.000</td> <td>    1.266</td> <td> 0.206</td> <td>   -0.000</td> <td>    0.001</td>\n",
       "</tr>\n",
       "<tr>\n",
       "  <th>x151</th>  <td>    0.0002</td> <td>    0.000</td> <td>    0.782</td> <td> 0.434</td> <td>   -0.000</td> <td>    0.001</td>\n",
       "</tr>\n",
       "<tr>\n",
       "  <th>x152</th>  <td>    0.0002</td> <td>    0.000</td> <td>    0.446</td> <td> 0.656</td> <td>   -0.001</td> <td>    0.001</td>\n",
       "</tr>\n",
       "<tr>\n",
       "  <th>x153</th>  <td>   -0.0001</td> <td>    0.000</td> <td>   -0.373</td> <td> 0.709</td> <td>   -0.001</td> <td>    0.000</td>\n",
       "</tr>\n",
       "<tr>\n",
       "  <th>x154</th>  <td>    0.0002</td> <td>    0.001</td> <td>    0.286</td> <td> 0.775</td> <td>   -0.001</td> <td>    0.001</td>\n",
       "</tr>\n",
       "<tr>\n",
       "  <th>x155</th>  <td>   -0.0002</td> <td>    0.002</td> <td>   -0.104</td> <td> 0.917</td> <td>   -0.004</td> <td>    0.003</td>\n",
       "</tr>\n",
       "<tr>\n",
       "  <th>x156</th>  <td>    0.0007</td> <td>    0.002</td> <td>    0.382</td> <td> 0.703</td> <td>   -0.003</td> <td>    0.004</td>\n",
       "</tr>\n",
       "<tr>\n",
       "  <th>x157</th>  <td>    0.0007</td> <td>    0.002</td> <td>    0.357</td> <td> 0.721</td> <td>   -0.003</td> <td>    0.005</td>\n",
       "</tr>\n",
       "<tr>\n",
       "  <th>x158</th>  <td>   -0.0002</td> <td>    0.002</td> <td>   -0.100</td> <td> 0.920</td> <td>   -0.004</td> <td>    0.004</td>\n",
       "</tr>\n",
       "<tr>\n",
       "  <th>x159</th>  <td>   -0.0008</td> <td>    0.001</td> <td>   -0.535</td> <td> 0.593</td> <td>   -0.004</td> <td>    0.002</td>\n",
       "</tr>\n",
       "<tr>\n",
       "  <th>x160</th>  <td>    0.0017</td> <td>    0.002</td> <td>    0.973</td> <td> 0.331</td> <td>   -0.002</td> <td>    0.005</td>\n",
       "</tr>\n",
       "<tr>\n",
       "  <th>x161</th>  <td>   -0.0002</td> <td>    0.002</td> <td>   -0.135</td> <td> 0.893</td> <td>   -0.004</td> <td>    0.003</td>\n",
       "</tr>\n",
       "<tr>\n",
       "  <th>x162</th>  <td>   -0.0002</td> <td>    0.002</td> <td>   -0.112</td> <td> 0.911</td> <td>   -0.004</td> <td>    0.003</td>\n",
       "</tr>\n",
       "<tr>\n",
       "  <th>x163</th>  <td>   -0.0011</td> <td>    0.007</td> <td>   -0.155</td> <td> 0.877</td> <td>   -0.014</td> <td>    0.012</td>\n",
       "</tr>\n",
       "<tr>\n",
       "  <th>x164</th>  <td>         0</td> <td>        0</td> <td>      nan</td> <td>   nan</td> <td>        0</td> <td>        0</td>\n",
       "</tr>\n",
       "<tr>\n",
       "  <th>x165</th>  <td>   -0.0067</td> <td>    0.004</td> <td>   -1.682</td> <td> 0.093</td> <td>   -0.014</td> <td>    0.001</td>\n",
       "</tr>\n",
       "<tr>\n",
       "  <th>x166</th>  <td>    0.0056</td> <td>    0.004</td> <td>    1.334</td> <td> 0.183</td> <td>   -0.003</td> <td>    0.014</td>\n",
       "</tr>\n",
       "<tr>\n",
       "  <th>x167</th>  <td>   -0.0011</td> <td>    0.003</td> <td>   -0.346</td> <td> 0.730</td> <td>   -0.007</td> <td>    0.005</td>\n",
       "</tr>\n",
       "<tr>\n",
       "  <th>x168</th>  <td>   -0.0018</td> <td>    0.004</td> <td>   -0.473</td> <td> 0.637</td> <td>   -0.009</td> <td>    0.006</td>\n",
       "</tr>\n",
       "<tr>\n",
       "  <th>x169</th>  <td>   -0.0010</td> <td>    0.004</td> <td>   -0.231</td> <td> 0.817</td> <td>   -0.010</td> <td>    0.008</td>\n",
       "</tr>\n",
       "<tr>\n",
       "  <th>x170</th>  <td>    0.0028</td> <td>    0.003</td> <td>    0.888</td> <td> 0.375</td> <td>   -0.003</td> <td>    0.009</td>\n",
       "</tr>\n",
       "<tr>\n",
       "  <th>x171</th>  <td>   -0.0025</td> <td>    0.007</td> <td>   -0.373</td> <td> 0.709</td> <td>   -0.016</td> <td>    0.011</td>\n",
       "</tr>\n",
       "<tr>\n",
       "  <th>x172</th>  <td>   -0.0051</td> <td>    0.004</td> <td>   -1.385</td> <td> 0.166</td> <td>   -0.012</td> <td>    0.002</td>\n",
       "</tr>\n",
       "<tr>\n",
       "  <th>x173</th>  <td>    0.0026</td> <td>    0.004</td> <td>    0.610</td> <td> 0.542</td> <td>   -0.006</td> <td>    0.011</td>\n",
       "</tr>\n",
       "<tr>\n",
       "  <th>x174</th>  <td>   -0.0013</td> <td>    0.003</td> <td>   -0.452</td> <td> 0.651</td> <td>   -0.007</td> <td>    0.004</td>\n",
       "</tr>\n",
       "<tr>\n",
       "  <th>x175</th>  <td>   -0.0017</td> <td>    0.003</td> <td>   -0.496</td> <td> 0.620</td> <td>   -0.008</td> <td>    0.005</td>\n",
       "</tr>\n",
       "<tr>\n",
       "  <th>x176</th>  <td>   -0.0012</td> <td>    0.004</td> <td>   -0.321</td> <td> 0.748</td> <td>   -0.009</td> <td>    0.006</td>\n",
       "</tr>\n",
       "<tr>\n",
       "  <th>x177</th>  <td>    0.0017</td> <td>    0.004</td> <td>    0.485</td> <td> 0.627</td> <td>   -0.005</td> <td>    0.009</td>\n",
       "</tr>\n",
       "<tr>\n",
       "  <th>x178</th>  <td>   -0.0118</td> <td>    0.007</td> <td>   -1.745</td> <td> 0.081</td> <td>   -0.025</td> <td>    0.001</td>\n",
       "</tr>\n",
       "<tr>\n",
       "  <th>x179</th>  <td>         0</td> <td>        0</td> <td>      nan</td> <td>   nan</td> <td>        0</td> <td>        0</td>\n",
       "</tr>\n",
       "<tr>\n",
       "  <th>x180</th>  <td>   -0.0001</td> <td>    0.003</td> <td>   -0.034</td> <td> 0.973</td> <td>   -0.006</td> <td>    0.006</td>\n",
       "</tr>\n",
       "<tr>\n",
       "  <th>x181</th>  <td>   -0.0067</td> <td>    0.004</td> <td>   -1.859</td> <td> 0.063</td> <td>   -0.014</td> <td>    0.000</td>\n",
       "</tr>\n",
       "<tr>\n",
       "  <th>x182</th>  <td>   -0.0027</td> <td>    0.004</td> <td>   -0.647</td> <td> 0.518</td> <td>   -0.011</td> <td>    0.006</td>\n",
       "</tr>\n",
       "<tr>\n",
       "  <th>x183</th>  <td>   -0.0022</td> <td>    0.004</td> <td>   -0.624</td> <td> 0.533</td> <td>   -0.009</td> <td>    0.005</td>\n",
       "</tr>\n",
       "<tr>\n",
       "  <th>x184</th>  <td>    0.0082</td> <td>    0.008</td> <td>    1.089</td> <td> 0.277</td> <td>   -0.007</td> <td>    0.023</td>\n",
       "</tr>\n",
       "<tr>\n",
       "  <th>x185</th>  <td>   -0.0022</td> <td>    0.003</td> <td>   -0.701</td> <td> 0.484</td> <td>   -0.009</td> <td>    0.004</td>\n",
       "</tr>\n",
       "<tr>\n",
       "  <th>x186</th>  <td>    0.0033</td> <td>    0.004</td> <td>    0.746</td> <td> 0.456</td> <td>   -0.005</td> <td>    0.012</td>\n",
       "</tr>\n",
       "<tr>\n",
       "  <th>x187</th>  <td>    0.0005</td> <td>    0.005</td> <td>    0.103</td> <td> 0.918</td> <td>   -0.008</td> <td>    0.009</td>\n",
       "</tr>\n",
       "<tr>\n",
       "  <th>x188</th>  <td>    0.0067</td> <td>    0.004</td> <td>    1.727</td> <td> 0.085</td> <td>   -0.001</td> <td>    0.014</td>\n",
       "</tr>\n",
       "<tr>\n",
       "  <th>x189</th>  <td>   -0.0024</td> <td>    0.005</td> <td>   -0.479</td> <td> 0.632</td> <td>   -0.012</td> <td>    0.007</td>\n",
       "</tr>\n",
       "<tr>\n",
       "  <th>x190</th>  <td>         0</td> <td>        0</td> <td>      nan</td> <td>   nan</td> <td>        0</td> <td>        0</td>\n",
       "</tr>\n",
       "<tr>\n",
       "  <th>x191</th>  <td>         0</td> <td>        0</td> <td>      nan</td> <td>   nan</td> <td>        0</td> <td>        0</td>\n",
       "</tr>\n",
       "<tr>\n",
       "  <th>x192</th>  <td>         0</td> <td>        0</td> <td>      nan</td> <td>   nan</td> <td>        0</td> <td>        0</td>\n",
       "</tr>\n",
       "<tr>\n",
       "  <th>x193</th>  <td>   -0.0034</td> <td>    0.006</td> <td>   -0.569</td> <td> 0.569</td> <td>   -0.015</td> <td>    0.008</td>\n",
       "</tr>\n",
       "<tr>\n",
       "  <th>x194</th>  <td>         0</td> <td>        0</td> <td>      nan</td> <td>   nan</td> <td>        0</td> <td>        0</td>\n",
       "</tr>\n",
       "<tr>\n",
       "  <th>x195</th>  <td>         0</td> <td>        0</td> <td>      nan</td> <td>   nan</td> <td>        0</td> <td>        0</td>\n",
       "</tr>\n",
       "<tr>\n",
       "  <th>x196</th>  <td>   -0.0023</td> <td>    0.007</td> <td>   -0.311</td> <td> 0.756</td> <td>   -0.017</td> <td>    0.012</td>\n",
       "</tr>\n",
       "<tr>\n",
       "  <th>x197</th>  <td>         0</td> <td>        0</td> <td>      nan</td> <td>   nan</td> <td>        0</td> <td>        0</td>\n",
       "</tr>\n",
       "<tr>\n",
       "  <th>x198</th>  <td>    0.0045</td> <td>    0.006</td> <td>    0.804</td> <td> 0.422</td> <td>   -0.006</td> <td>    0.015</td>\n",
       "</tr>\n",
       "<tr>\n",
       "  <th>x199</th>  <td>    0.0028</td> <td>    0.002</td> <td>    1.149</td> <td> 0.251</td> <td>   -0.002</td> <td>    0.008</td>\n",
       "</tr>\n",
       "<tr>\n",
       "  <th>x200</th>  <td>   -0.0098</td> <td>    0.007</td> <td>   -1.411</td> <td> 0.158</td> <td>   -0.023</td> <td>    0.004</td>\n",
       "</tr>\n",
       "<tr>\n",
       "  <th>x201</th>  <td>   -0.0101</td> <td>    0.007</td> <td>   -1.453</td> <td> 0.147</td> <td>   -0.024</td> <td>    0.004</td>\n",
       "</tr>\n",
       "<tr>\n",
       "  <th>x202</th>  <td>   -0.0190</td> <td>    0.009</td> <td>   -2.228</td> <td> 0.026</td> <td>   -0.036</td> <td>   -0.002</td>\n",
       "</tr>\n",
       "<tr>\n",
       "  <th>x203</th>  <td>   -0.0008</td> <td>    0.008</td> <td>   -0.105</td> <td> 0.917</td> <td>   -0.017</td> <td>    0.015</td>\n",
       "</tr>\n",
       "<tr>\n",
       "  <th>x204</th>  <td>   -0.0129</td> <td>    0.007</td> <td>   -1.920</td> <td> 0.055</td> <td>   -0.026</td> <td>    0.000</td>\n",
       "</tr>\n",
       "<tr>\n",
       "  <th>x205</th>  <td>   -0.0086</td> <td>    0.007</td> <td>   -1.275</td> <td> 0.203</td> <td>   -0.022</td> <td>    0.005</td>\n",
       "</tr>\n",
       "<tr>\n",
       "  <th>x206</th>  <td>-5.271e-05</td> <td>    0.007</td> <td>   -0.008</td> <td> 0.994</td> <td>   -0.013</td> <td>    0.013</td>\n",
       "</tr>\n",
       "<tr>\n",
       "  <th>x207</th>  <td>    0.0017</td> <td>    0.007</td> <td>    0.258</td> <td> 0.797</td> <td>   -0.011</td> <td>    0.015</td>\n",
       "</tr>\n",
       "<tr>\n",
       "  <th>x208</th>  <td>    0.0412</td> <td>    0.021</td> <td>    1.928</td> <td> 0.054</td> <td>   -0.001</td> <td>    0.083</td>\n",
       "</tr>\n",
       "<tr>\n",
       "  <th>x209</th>  <td>         0</td> <td>        0</td> <td>      nan</td> <td>   nan</td> <td>        0</td> <td>        0</td>\n",
       "</tr>\n",
       "<tr>\n",
       "  <th>x210</th>  <td>    0.0296</td> <td>    0.014</td> <td>    2.126</td> <td> 0.034</td> <td>    0.002</td> <td>    0.057</td>\n",
       "</tr>\n",
       "<tr>\n",
       "  <th>x211</th>  <td>    0.0116</td> <td>    0.014</td> <td>    0.826</td> <td> 0.409</td> <td>   -0.016</td> <td>    0.039</td>\n",
       "</tr>\n",
       "<tr>\n",
       "  <th>x212</th>  <td>    0.0207</td> <td>    0.012</td> <td>    1.785</td> <td> 0.075</td> <td>   -0.002</td> <td>    0.043</td>\n",
       "</tr>\n",
       "<tr>\n",
       "  <th>x213</th>  <td>    0.0209</td> <td>    0.013</td> <td>    1.633</td> <td> 0.103</td> <td>   -0.004</td> <td>    0.046</td>\n",
       "</tr>\n",
       "<tr>\n",
       "  <th>x214</th>  <td>   -0.0015</td> <td>    0.014</td> <td>   -0.108</td> <td> 0.914</td> <td>   -0.028</td> <td>    0.025</td>\n",
       "</tr>\n",
       "<tr>\n",
       "  <th>x215</th>  <td>    0.0010</td> <td>    0.013</td> <td>    0.077</td> <td> 0.939</td> <td>   -0.025</td> <td>    0.027</td>\n",
       "</tr>\n",
       "<tr>\n",
       "  <th>x216</th>  <td>    0.0358</td> <td>    0.021</td> <td>    1.719</td> <td> 0.086</td> <td>   -0.005</td> <td>    0.077</td>\n",
       "</tr>\n",
       "<tr>\n",
       "  <th>x217</th>  <td>    0.0393</td> <td>    0.014</td> <td>    2.873</td> <td> 0.004</td> <td>    0.012</td> <td>    0.066</td>\n",
       "</tr>\n",
       "<tr>\n",
       "  <th>x218</th>  <td>   -0.0035</td> <td>    0.015</td> <td>   -0.228</td> <td> 0.820</td> <td>   -0.033</td> <td>    0.026</td>\n",
       "</tr>\n",
       "<tr>\n",
       "  <th>x219</th>  <td>    0.0208</td> <td>    0.011</td> <td>    1.850</td> <td> 0.065</td> <td>   -0.001</td> <td>    0.043</td>\n",
       "</tr>\n",
       "<tr>\n",
       "  <th>x220</th>  <td>    0.0012</td> <td>    0.013</td> <td>    0.091</td> <td> 0.928</td> <td>   -0.025</td> <td>    0.027</td>\n",
       "</tr>\n",
       "<tr>\n",
       "  <th>x221</th>  <td>    0.0122</td> <td>    0.013</td> <td>    0.910</td> <td> 0.363</td> <td>   -0.014</td> <td>    0.039</td>\n",
       "</tr>\n",
       "<tr>\n",
       "  <th>x222</th>  <td>    0.0016</td> <td>    0.013</td> <td>    0.123</td> <td> 0.902</td> <td>   -0.024</td> <td>    0.027</td>\n",
       "</tr>\n",
       "<tr>\n",
       "  <th>x223</th>  <td>    0.0688</td> <td>    0.022</td> <td>    3.077</td> <td> 0.002</td> <td>    0.025</td> <td>    0.113</td>\n",
       "</tr>\n",
       "<tr>\n",
       "  <th>x224</th>  <td>         0</td> <td>        0</td> <td>      nan</td> <td>   nan</td> <td>        0</td> <td>        0</td>\n",
       "</tr>\n",
       "<tr>\n",
       "  <th>x225</th>  <td>    0.0370</td> <td>    0.013</td> <td>    2.763</td> <td> 0.006</td> <td>    0.011</td> <td>    0.063</td>\n",
       "</tr>\n",
       "<tr>\n",
       "  <th>x226</th>  <td>    0.0129</td> <td>    0.014</td> <td>    0.892</td> <td> 0.372</td> <td>   -0.015</td> <td>    0.041</td>\n",
       "</tr>\n",
       "<tr>\n",
       "  <th>x227</th>  <td>    0.0120</td> <td>    0.016</td> <td>    0.768</td> <td> 0.442</td> <td>   -0.019</td> <td>    0.042</td>\n",
       "</tr>\n",
       "<tr>\n",
       "  <th>x228</th>  <td>    0.0070</td> <td>    0.015</td> <td>    0.467</td> <td> 0.640</td> <td>   -0.022</td> <td>    0.037</td>\n",
       "</tr>\n",
       "<tr>\n",
       "  <th>x229</th>  <td>    0.0081</td> <td>    0.024</td> <td>    0.336</td> <td> 0.737</td> <td>   -0.039</td> <td>    0.056</td>\n",
       "</tr>\n",
       "<tr>\n",
       "  <th>x230</th>  <td>    0.0045</td> <td>    0.014</td> <td>    0.326</td> <td> 0.744</td> <td>   -0.023</td> <td>    0.032</td>\n",
       "</tr>\n",
       "<tr>\n",
       "  <th>x231</th>  <td>    0.0092</td> <td>    0.016</td> <td>    0.584</td> <td> 0.559</td> <td>   -0.022</td> <td>    0.040</td>\n",
       "</tr>\n",
       "<tr>\n",
       "  <th>x232</th>  <td>   -0.0012</td> <td>    0.015</td> <td>   -0.078</td> <td> 0.938</td> <td>   -0.031</td> <td>    0.029</td>\n",
       "</tr>\n",
       "<tr>\n",
       "  <th>x233</th>  <td>   -0.0044</td> <td>    0.015</td> <td>   -0.288</td> <td> 0.774</td> <td>   -0.035</td> <td>    0.026</td>\n",
       "</tr>\n",
       "<tr>\n",
       "  <th>x234</th>  <td>    0.0415</td> <td>    0.017</td> <td>    2.464</td> <td> 0.014</td> <td>    0.008</td> <td>    0.075</td>\n",
       "</tr>\n",
       "<tr>\n",
       "  <th>x235</th>  <td>         0</td> <td>        0</td> <td>      nan</td> <td>   nan</td> <td>        0</td> <td>        0</td>\n",
       "</tr>\n",
       "<tr>\n",
       "  <th>x236</th>  <td>         0</td> <td>        0</td> <td>      nan</td> <td>   nan</td> <td>        0</td> <td>        0</td>\n",
       "</tr>\n",
       "<tr>\n",
       "  <th>x237</th>  <td>         0</td> <td>        0</td> <td>      nan</td> <td>   nan</td> <td>        0</td> <td>        0</td>\n",
       "</tr>\n",
       "<tr>\n",
       "  <th>x238</th>  <td>    0.0221</td> <td>    0.020</td> <td>    1.085</td> <td> 0.278</td> <td>   -0.018</td> <td>    0.062</td>\n",
       "</tr>\n",
       "<tr>\n",
       "  <th>x239</th>  <td>         0</td> <td>        0</td> <td>      nan</td> <td>   nan</td> <td>        0</td> <td>        0</td>\n",
       "</tr>\n",
       "<tr>\n",
       "  <th>x240</th>  <td>         0</td> <td>        0</td> <td>      nan</td> <td>   nan</td> <td>        0</td> <td>        0</td>\n",
       "</tr>\n",
       "<tr>\n",
       "  <th>x241</th>  <td>    0.0108</td> <td>    0.021</td> <td>    0.506</td> <td> 0.613</td> <td>   -0.031</td> <td>    0.052</td>\n",
       "</tr>\n",
       "<tr>\n",
       "  <th>x242</th>  <td>         0</td> <td>        0</td> <td>      nan</td> <td>   nan</td> <td>        0</td> <td>        0</td>\n",
       "</tr>\n",
       "<tr>\n",
       "  <th>x243</th>  <td>    0.0026</td> <td>    0.021</td> <td>    0.126</td> <td> 0.900</td> <td>   -0.038</td> <td>    0.043</td>\n",
       "</tr>\n",
       "<tr>\n",
       "  <th>x244</th>  <td>    0.2874</td> <td>    0.054</td> <td>    5.359</td> <td> 0.000</td> <td>    0.182</td> <td>    0.393</td>\n",
       "</tr>\n",
       "<tr>\n",
       "  <th>x245</th>  <td>         0</td> <td>        0</td> <td>      nan</td> <td>   nan</td> <td>        0</td> <td>        0</td>\n",
       "</tr>\n",
       "<tr>\n",
       "  <th>x246</th>  <td>    0.1478</td> <td>    0.032</td> <td>    4.673</td> <td> 0.000</td> <td>    0.086</td> <td>    0.210</td>\n",
       "</tr>\n",
       "<tr>\n",
       "  <th>x247</th>  <td>    0.1396</td> <td>    0.036</td> <td>    3.890</td> <td> 0.000</td> <td>    0.069</td> <td>    0.210</td>\n",
       "</tr>\n",
       "<tr>\n",
       "  <th>x248</th>  <td>    0.0776</td> <td>    0.027</td> <td>    2.913</td> <td> 0.004</td> <td>    0.025</td> <td>    0.130</td>\n",
       "</tr>\n",
       "<tr>\n",
       "  <th>x249</th>  <td>    0.0977</td> <td>    0.032</td> <td>    3.068</td> <td> 0.002</td> <td>    0.035</td> <td>    0.160</td>\n",
       "</tr>\n",
       "<tr>\n",
       "  <th>x250</th>  <td>    0.0708</td> <td>    0.037</td> <td>    1.929</td> <td> 0.054</td> <td>   -0.001</td> <td>    0.143</td>\n",
       "</tr>\n",
       "<tr>\n",
       "  <th>x251</th>  <td>    0.0413</td> <td>    0.025</td> <td>    1.656</td> <td> 0.098</td> <td>   -0.008</td> <td>    0.090</td>\n",
       "</tr>\n",
       "<tr>\n",
       "  <th>x252</th>  <td>         0</td> <td>        0</td> <td>      nan</td> <td>   nan</td> <td>        0</td> <td>        0</td>\n",
       "</tr>\n",
       "<tr>\n",
       "  <th>x253</th>  <td>         0</td> <td>        0</td> <td>      nan</td> <td>   nan</td> <td>        0</td> <td>        0</td>\n",
       "</tr>\n",
       "<tr>\n",
       "  <th>x254</th>  <td>         0</td> <td>        0</td> <td>      nan</td> <td>   nan</td> <td>        0</td> <td>        0</td>\n",
       "</tr>\n",
       "<tr>\n",
       "  <th>x255</th>  <td>         0</td> <td>        0</td> <td>      nan</td> <td>   nan</td> <td>        0</td> <td>        0</td>\n",
       "</tr>\n",
       "<tr>\n",
       "  <th>x256</th>  <td>         0</td> <td>        0</td> <td>      nan</td> <td>   nan</td> <td>        0</td> <td>        0</td>\n",
       "</tr>\n",
       "<tr>\n",
       "  <th>x257</th>  <td>         0</td> <td>        0</td> <td>      nan</td> <td>   nan</td> <td>        0</td> <td>        0</td>\n",
       "</tr>\n",
       "<tr>\n",
       "  <th>x258</th>  <td>         0</td> <td>        0</td> <td>      nan</td> <td>   nan</td> <td>        0</td> <td>        0</td>\n",
       "</tr>\n",
       "<tr>\n",
       "  <th>x259</th>  <td>    0.1478</td> <td>    0.032</td> <td>    4.673</td> <td> 0.000</td> <td>    0.086</td> <td>    0.210</td>\n",
       "</tr>\n",
       "<tr>\n",
       "  <th>x260</th>  <td>         0</td> <td>        0</td> <td>      nan</td> <td>   nan</td> <td>        0</td> <td>        0</td>\n",
       "</tr>\n",
       "<tr>\n",
       "  <th>x261</th>  <td>    0.0369</td> <td>    0.020</td> <td>    1.807</td> <td> 0.071</td> <td>   -0.003</td> <td>    0.077</td>\n",
       "</tr>\n",
       "<tr>\n",
       "  <th>x262</th>  <td>    0.0474</td> <td>    0.021</td> <td>    2.277</td> <td> 0.023</td> <td>    0.007</td> <td>    0.088</td>\n",
       "</tr>\n",
       "<tr>\n",
       "  <th>x263</th>  <td>    0.0401</td> <td>    0.023</td> <td>    1.740</td> <td> 0.082</td> <td>   -0.005</td> <td>    0.085</td>\n",
       "</tr>\n",
       "<tr>\n",
       "  <th>x264</th>  <td>    0.0233</td> <td>    0.019</td> <td>    1.255</td> <td> 0.210</td> <td>   -0.013</td> <td>    0.060</td>\n",
       "</tr>\n",
       "<tr>\n",
       "  <th>x265</th>  <td>    0.1396</td> <td>    0.036</td> <td>    3.890</td> <td> 0.000</td> <td>    0.069</td> <td>    0.210</td>\n",
       "</tr>\n",
       "<tr>\n",
       "  <th>x266</th>  <td>    0.0406</td> <td>    0.019</td> <td>    2.161</td> <td> 0.031</td> <td>    0.004</td> <td>    0.078</td>\n",
       "</tr>\n",
       "<tr>\n",
       "  <th>x267</th>  <td>    0.0503</td> <td>    0.025</td> <td>    2.009</td> <td> 0.045</td> <td>    0.001</td> <td>    0.099</td>\n",
       "</tr>\n",
       "<tr>\n",
       "  <th>x268</th>  <td>    0.0307</td> <td>    0.027</td> <td>    1.122</td> <td> 0.262</td> <td>   -0.023</td> <td>    0.084</td>\n",
       "</tr>\n",
       "<tr>\n",
       "  <th>x269</th>  <td>    0.0180</td> <td>    0.022</td> <td>    0.834</td> <td> 0.405</td> <td>   -0.024</td> <td>    0.060</td>\n",
       "</tr>\n",
       "<tr>\n",
       "  <th>x270</th>  <td>    0.0776</td> <td>    0.027</td> <td>    2.913</td> <td> 0.004</td> <td>    0.025</td> <td>    0.130</td>\n",
       "</tr>\n",
       "<tr>\n",
       "  <th>x271</th>  <td>         0</td> <td>        0</td> <td>      nan</td> <td>   nan</td> <td>        0</td> <td>        0</td>\n",
       "</tr>\n",
       "<tr>\n",
       "  <th>x272</th>  <td>         0</td> <td>        0</td> <td>      nan</td> <td>   nan</td> <td>        0</td> <td>        0</td>\n",
       "</tr>\n",
       "<tr>\n",
       "  <th>x273</th>  <td>         0</td> <td>        0</td> <td>      nan</td> <td>   nan</td> <td>        0</td> <td>        0</td>\n",
       "</tr>\n",
       "<tr>\n",
       "  <th>x274</th>  <td>    0.0977</td> <td>    0.032</td> <td>    3.068</td> <td> 0.002</td> <td>    0.035</td> <td>    0.160</td>\n",
       "</tr>\n",
       "<tr>\n",
       "  <th>x275</th>  <td>         0</td> <td>        0</td> <td>      nan</td> <td>   nan</td> <td>        0</td> <td>        0</td>\n",
       "</tr>\n",
       "<tr>\n",
       "  <th>x276</th>  <td>         0</td> <td>        0</td> <td>      nan</td> <td>   nan</td> <td>        0</td> <td>        0</td>\n",
       "</tr>\n",
       "<tr>\n",
       "  <th>x277</th>  <td>    0.0708</td> <td>    0.037</td> <td>    1.929</td> <td> 0.054</td> <td>   -0.001</td> <td>    0.143</td>\n",
       "</tr>\n",
       "<tr>\n",
       "  <th>x278</th>  <td>         0</td> <td>        0</td> <td>      nan</td> <td>   nan</td> <td>        0</td> <td>        0</td>\n",
       "</tr>\n",
       "<tr>\n",
       "  <th>x279</th>  <td>    0.0413</td> <td>    0.025</td> <td>    1.656</td> <td> 0.098</td> <td>   -0.008</td> <td>    0.090</td>\n",
       "</tr>\n",
       "<tr>\n",
       "  <th>x280</th>  <td>    0.2248</td> <td>    0.053</td> <td>    4.248</td> <td> 0.000</td> <td>    0.121</td> <td>    0.329</td>\n",
       "</tr>\n",
       "<tr>\n",
       "  <th>x281</th>  <td>    0.0838</td> <td>    0.030</td> <td>    2.802</td> <td> 0.005</td> <td>    0.025</td> <td>    0.143</td>\n",
       "</tr>\n",
       "<tr>\n",
       "  <th>x282</th>  <td>    0.1410</td> <td>    0.039</td> <td>    3.597</td> <td> 0.000</td> <td>    0.064</td> <td>    0.218</td>\n",
       "</tr>\n",
       "<tr>\n",
       "  <th>x283</th>  <td>    0.0678</td> <td>    0.024</td> <td>    2.783</td> <td> 0.005</td> <td>    0.020</td> <td>    0.116</td>\n",
       "</tr>\n",
       "<tr>\n",
       "  <th>x284</th>  <td>    0.0648</td> <td>    0.028</td> <td>    2.296</td> <td> 0.022</td> <td>    0.009</td> <td>    0.120</td>\n",
       "</tr>\n",
       "<tr>\n",
       "  <th>x285</th>  <td>    0.0728</td> <td>    0.034</td> <td>    2.127</td> <td> 0.034</td> <td>    0.006</td> <td>    0.140</td>\n",
       "</tr>\n",
       "<tr>\n",
       "  <th>x286</th>  <td>    0.0195</td> <td>    0.029</td> <td>    0.666</td> <td> 0.506</td> <td>   -0.038</td> <td>    0.077</td>\n",
       "</tr>\n",
       "<tr>\n",
       "  <th>x287</th>  <td>    0.0838</td> <td>    0.030</td> <td>    2.802</td> <td> 0.005</td> <td>    0.025</td> <td>    0.143</td>\n",
       "</tr>\n",
       "<tr>\n",
       "  <th>x288</th>  <td>         0</td> <td>        0</td> <td>      nan</td> <td>   nan</td> <td>        0</td> <td>        0</td>\n",
       "</tr>\n",
       "<tr>\n",
       "  <th>x289</th>  <td>    0.0122</td> <td>    0.018</td> <td>    0.670</td> <td> 0.503</td> <td>   -0.023</td> <td>    0.048</td>\n",
       "</tr>\n",
       "<tr>\n",
       "  <th>x290</th>  <td>    0.0609</td> <td>    0.021</td> <td>    2.917</td> <td> 0.004</td> <td>    0.020</td> <td>    0.102</td>\n",
       "</tr>\n",
       "<tr>\n",
       "  <th>x291</th>  <td>    0.0093</td> <td>    0.023</td> <td>    0.409</td> <td> 0.682</td> <td>   -0.035</td> <td>    0.054</td>\n",
       "</tr>\n",
       "<tr>\n",
       "  <th>x292</th>  <td>    0.0015</td> <td>    0.020</td> <td>    0.072</td> <td> 0.942</td> <td>   -0.039</td> <td>    0.042</td>\n",
       "</tr>\n",
       "<tr>\n",
       "  <th>x293</th>  <td>    0.1410</td> <td>    0.039</td> <td>    3.597</td> <td> 0.000</td> <td>    0.064</td> <td>    0.218</td>\n",
       "</tr>\n",
       "<tr>\n",
       "  <th>x294</th>  <td>    0.0556</td> <td>    0.021</td> <td>    2.701</td> <td> 0.007</td> <td>    0.015</td> <td>    0.096</td>\n",
       "</tr>\n",
       "<tr>\n",
       "  <th>x295</th>  <td>    0.0039</td> <td>    0.026</td> <td>    0.153</td> <td> 0.878</td> <td>   -0.046</td> <td>    0.054</td>\n",
       "</tr>\n",
       "<tr>\n",
       "  <th>x296</th>  <td>    0.0634</td> <td>    0.026</td> <td>    2.464</td> <td> 0.014</td> <td>    0.013</td> <td>    0.114</td>\n",
       "</tr>\n",
       "<tr>\n",
       "  <th>x297</th>  <td>    0.0180</td> <td>    0.027</td> <td>    0.674</td> <td> 0.501</td> <td>   -0.034</td> <td>    0.070</td>\n",
       "</tr>\n",
       "<tr>\n",
       "  <th>x298</th>  <td>    0.0678</td> <td>    0.024</td> <td>    2.783</td> <td> 0.005</td> <td>    0.020</td> <td>    0.116</td>\n",
       "</tr>\n",
       "<tr>\n",
       "  <th>x299</th>  <td>         0</td> <td>        0</td> <td>      nan</td> <td>   nan</td> <td>        0</td> <td>        0</td>\n",
       "</tr>\n",
       "<tr>\n",
       "  <th>x300</th>  <td>         0</td> <td>        0</td> <td>      nan</td> <td>   nan</td> <td>        0</td> <td>        0</td>\n",
       "</tr>\n",
       "<tr>\n",
       "  <th>x301</th>  <td>         0</td> <td>        0</td> <td>      nan</td> <td>   nan</td> <td>        0</td> <td>        0</td>\n",
       "</tr>\n",
       "<tr>\n",
       "  <th>x302</th>  <td>    0.0648</td> <td>    0.028</td> <td>    2.296</td> <td> 0.022</td> <td>    0.009</td> <td>    0.120</td>\n",
       "</tr>\n",
       "<tr>\n",
       "  <th>x303</th>  <td>         0</td> <td>        0</td> <td>      nan</td> <td>   nan</td> <td>        0</td> <td>        0</td>\n",
       "</tr>\n",
       "<tr>\n",
       "  <th>x304</th>  <td>         0</td> <td>        0</td> <td>      nan</td> <td>   nan</td> <td>        0</td> <td>        0</td>\n",
       "</tr>\n",
       "<tr>\n",
       "  <th>x305</th>  <td>    0.0728</td> <td>    0.034</td> <td>    2.127</td> <td> 0.034</td> <td>    0.006</td> <td>    0.140</td>\n",
       "</tr>\n",
       "<tr>\n",
       "  <th>x306</th>  <td>         0</td> <td>        0</td> <td>      nan</td> <td>   nan</td> <td>        0</td> <td>        0</td>\n",
       "</tr>\n",
       "<tr>\n",
       "  <th>x307</th>  <td>    0.0195</td> <td>    0.029</td> <td>    0.666</td> <td> 0.506</td> <td>   -0.038</td> <td>    0.077</td>\n",
       "</tr>\n",
       "<tr>\n",
       "  <th>x308</th>  <td>    0.2316</td> <td>    0.052</td> <td>    4.468</td> <td> 0.000</td> <td>    0.130</td> <td>    0.333</td>\n",
       "</tr>\n",
       "<tr>\n",
       "  <th>x309</th>  <td>         0</td> <td>        0</td> <td>      nan</td> <td>   nan</td> <td>        0</td> <td>        0</td>\n",
       "</tr>\n",
       "<tr>\n",
       "  <th>x310</th>  <td>    0.0491</td> <td>    0.027</td> <td>    1.806</td> <td> 0.071</td> <td>   -0.004</td> <td>    0.102</td>\n",
       "</tr>\n",
       "<tr>\n",
       "  <th>x311</th>  <td>    0.1083</td> <td>    0.029</td> <td>    3.699</td> <td> 0.000</td> <td>    0.051</td> <td>    0.166</td>\n",
       "</tr>\n",
       "<tr>\n",
       "  <th>x312</th>  <td>    0.0494</td> <td>    0.035</td> <td>    1.422</td> <td> 0.155</td> <td>   -0.019</td> <td>    0.118</td>\n",
       "</tr>\n",
       "<tr>\n",
       "  <th>x313</th>  <td>    0.0248</td> <td>    0.027</td> <td>    0.907</td> <td> 0.364</td> <td>   -0.029</td> <td>    0.078</td>\n",
       "</tr>\n",
       "<tr>\n",
       "  <th>x314</th>  <td>         0</td> <td>        0</td> <td>      nan</td> <td>   nan</td> <td>        0</td> <td>        0</td>\n",
       "</tr>\n",
       "<tr>\n",
       "  <th>x315</th>  <td>         0</td> <td>        0</td> <td>      nan</td> <td>   nan</td> <td>        0</td> <td>        0</td>\n",
       "</tr>\n",
       "<tr>\n",
       "  <th>x316</th>  <td>         0</td> <td>        0</td> <td>      nan</td> <td>   nan</td> <td>        0</td> <td>        0</td>\n",
       "</tr>\n",
       "<tr>\n",
       "  <th>x317</th>  <td>         0</td> <td>        0</td> <td>      nan</td> <td>   nan</td> <td>        0</td> <td>        0</td>\n",
       "</tr>\n",
       "<tr>\n",
       "  <th>x318</th>  <td>         0</td> <td>        0</td> <td>      nan</td> <td>   nan</td> <td>        0</td> <td>        0</td>\n",
       "</tr>\n",
       "<tr>\n",
       "  <th>x319</th>  <td>    0.0491</td> <td>    0.027</td> <td>    1.806</td> <td> 0.071</td> <td>   -0.004</td> <td>    0.102</td>\n",
       "</tr>\n",
       "<tr>\n",
       "  <th>x320</th>  <td>         0</td> <td>        0</td> <td>      nan</td> <td>   nan</td> <td>        0</td> <td>        0</td>\n",
       "</tr>\n",
       "<tr>\n",
       "  <th>x321</th>  <td>         0</td> <td>        0</td> <td>      nan</td> <td>   nan</td> <td>        0</td> <td>        0</td>\n",
       "</tr>\n",
       "<tr>\n",
       "  <th>x322</th>  <td>         0</td> <td>        0</td> <td>      nan</td> <td>   nan</td> <td>        0</td> <td>        0</td>\n",
       "</tr>\n",
       "<tr>\n",
       "  <th>x323</th>  <td>    0.1083</td> <td>    0.029</td> <td>    3.699</td> <td> 0.000</td> <td>    0.051</td> <td>    0.166</td>\n",
       "</tr>\n",
       "<tr>\n",
       "  <th>x324</th>  <td>         0</td> <td>        0</td> <td>      nan</td> <td>   nan</td> <td>        0</td> <td>        0</td>\n",
       "</tr>\n",
       "<tr>\n",
       "  <th>x325</th>  <td>         0</td> <td>        0</td> <td>      nan</td> <td>   nan</td> <td>        0</td> <td>        0</td>\n",
       "</tr>\n",
       "<tr>\n",
       "  <th>x326</th>  <td>    0.0494</td> <td>    0.035</td> <td>    1.422</td> <td> 0.155</td> <td>   -0.019</td> <td>    0.118</td>\n",
       "</tr>\n",
       "<tr>\n",
       "  <th>x327</th>  <td>         0</td> <td>        0</td> <td>      nan</td> <td>   nan</td> <td>        0</td> <td>        0</td>\n",
       "</tr>\n",
       "<tr>\n",
       "  <th>x328</th>  <td>    0.0248</td> <td>    0.027</td> <td>    0.907</td> <td> 0.364</td> <td>   -0.029</td> <td>    0.078</td>\n",
       "</tr>\n",
       "<tr>\n",
       "  <th>x329</th>  <td>    0.2805</td> <td>    0.065</td> <td>    4.343</td> <td> 0.000</td> <td>    0.154</td> <td>    0.407</td>\n",
       "</tr>\n",
       "<tr>\n",
       "  <th>x330</th>  <td>    0.0963</td> <td>    0.027</td> <td>    3.597</td> <td> 0.000</td> <td>    0.044</td> <td>    0.149</td>\n",
       "</tr>\n",
       "<tr>\n",
       "  <th>x331</th>  <td>    0.0542</td> <td>    0.039</td> <td>    1.385</td> <td> 0.166</td> <td>   -0.023</td> <td>    0.131</td>\n",
       "</tr>\n",
       "<tr>\n",
       "  <th>x332</th>  <td>    0.0942</td> <td>    0.042</td> <td>    2.224</td> <td> 0.026</td> <td>    0.011</td> <td>    0.177</td>\n",
       "</tr>\n",
       "<tr>\n",
       "  <th>x333</th>  <td>    0.0359</td> <td>    0.036</td> <td>    1.007</td> <td> 0.314</td> <td>   -0.034</td> <td>    0.106</td>\n",
       "</tr>\n",
       "<tr>\n",
       "  <th>x334</th>  <td>    0.0963</td> <td>    0.027</td> <td>    3.597</td> <td> 0.000</td> <td>    0.044</td> <td>    0.149</td>\n",
       "</tr>\n",
       "<tr>\n",
       "  <th>x335</th>  <td>         0</td> <td>        0</td> <td>      nan</td> <td>   nan</td> <td>        0</td> <td>        0</td>\n",
       "</tr>\n",
       "<tr>\n",
       "  <th>x336</th>  <td>         0</td> <td>        0</td> <td>      nan</td> <td>   nan</td> <td>        0</td> <td>        0</td>\n",
       "</tr>\n",
       "<tr>\n",
       "  <th>x337</th>  <td>         0</td> <td>        0</td> <td>      nan</td> <td>   nan</td> <td>        0</td> <td>        0</td>\n",
       "</tr>\n",
       "<tr>\n",
       "  <th>x338</th>  <td>    0.0542</td> <td>    0.039</td> <td>    1.385</td> <td> 0.166</td> <td>   -0.023</td> <td>    0.131</td>\n",
       "</tr>\n",
       "<tr>\n",
       "  <th>x339</th>  <td>         0</td> <td>        0</td> <td>      nan</td> <td>   nan</td> <td>        0</td> <td>        0</td>\n",
       "</tr>\n",
       "<tr>\n",
       "  <th>x340</th>  <td>         0</td> <td>        0</td> <td>      nan</td> <td>   nan</td> <td>        0</td> <td>        0</td>\n",
       "</tr>\n",
       "<tr>\n",
       "  <th>x341</th>  <td>    0.0942</td> <td>    0.042</td> <td>    2.224</td> <td> 0.026</td> <td>    0.011</td> <td>    0.177</td>\n",
       "</tr>\n",
       "<tr>\n",
       "  <th>x342</th>  <td>         0</td> <td>        0</td> <td>      nan</td> <td>   nan</td> <td>        0</td> <td>        0</td>\n",
       "</tr>\n",
       "<tr>\n",
       "  <th>x343</th>  <td>    0.0359</td> <td>    0.036</td> <td>    1.007</td> <td> 0.314</td> <td>   -0.034</td> <td>    0.106</td>\n",
       "</tr>\n",
       "<tr>\n",
       "  <th>x344</th>  <td>    0.1453</td> <td>    0.041</td> <td>    3.547</td> <td> 0.000</td> <td>    0.065</td> <td>    0.226</td>\n",
       "</tr>\n",
       "<tr>\n",
       "  <th>x345</th>  <td>         0</td> <td>        0</td> <td>      nan</td> <td>   nan</td> <td>        0</td> <td>        0</td>\n",
       "</tr>\n",
       "<tr>\n",
       "  <th>x346</th>  <td>         0</td> <td>        0</td> <td>      nan</td> <td>   nan</td> <td>        0</td> <td>        0</td>\n",
       "</tr>\n",
       "<tr>\n",
       "  <th>x347</th>  <td>         0</td> <td>        0</td> <td>      nan</td> <td>   nan</td> <td>        0</td> <td>        0</td>\n",
       "</tr>\n",
       "<tr>\n",
       "  <th>x348</th>  <td>         0</td> <td>        0</td> <td>      nan</td> <td>   nan</td> <td>        0</td> <td>        0</td>\n",
       "</tr>\n",
       "<tr>\n",
       "  <th>x349</th>  <td>         0</td> <td>        0</td> <td>      nan</td> <td>   nan</td> <td>        0</td> <td>        0</td>\n",
       "</tr>\n",
       "<tr>\n",
       "  <th>x350</th>  <td>         0</td> <td>        0</td> <td>      nan</td> <td>   nan</td> <td>        0</td> <td>        0</td>\n",
       "</tr>\n",
       "<tr>\n",
       "  <th>x351</th>  <td>         0</td> <td>        0</td> <td>      nan</td> <td>   nan</td> <td>        0</td> <td>        0</td>\n",
       "</tr>\n",
       "<tr>\n",
       "  <th>x352</th>  <td>         0</td> <td>        0</td> <td>      nan</td> <td>   nan</td> <td>        0</td> <td>        0</td>\n",
       "</tr>\n",
       "<tr>\n",
       "  <th>x353</th>  <td>         0</td> <td>        0</td> <td>      nan</td> <td>   nan</td> <td>        0</td> <td>        0</td>\n",
       "</tr>\n",
       "<tr>\n",
       "  <th>x354</th>  <td>    0.1625</td> <td>    0.049</td> <td>    3.310</td> <td> 0.001</td> <td>    0.066</td> <td>    0.259</td>\n",
       "</tr>\n",
       "<tr>\n",
       "  <th>x355</th>  <td>         0</td> <td>        0</td> <td>      nan</td> <td>   nan</td> <td>        0</td> <td>        0</td>\n",
       "</tr>\n",
       "<tr>\n",
       "  <th>x356</th>  <td>         0</td> <td>        0</td> <td>      nan</td> <td>   nan</td> <td>        0</td> <td>        0</td>\n",
       "</tr>\n",
       "<tr>\n",
       "  <th>x357</th>  <td>         0</td> <td>        0</td> <td>      nan</td> <td>   nan</td> <td>        0</td> <td>        0</td>\n",
       "</tr>\n",
       "<tr>\n",
       "  <th>x358</th>  <td>         0</td> <td>        0</td> <td>      nan</td> <td>   nan</td> <td>        0</td> <td>        0</td>\n",
       "</tr>\n",
       "<tr>\n",
       "  <th>x359</th>  <td>         0</td> <td>        0</td> <td>      nan</td> <td>   nan</td> <td>        0</td> <td>        0</td>\n",
       "</tr>\n",
       "<tr>\n",
       "  <th>x360</th>  <td>    0.1436</td> <td>    0.060</td> <td>    2.401</td> <td> 0.017</td> <td>    0.026</td> <td>    0.261</td>\n",
       "</tr>\n",
       "<tr>\n",
       "  <th>x361</th>  <td>         0</td> <td>        0</td> <td>      nan</td> <td>   nan</td> <td>        0</td> <td>        0</td>\n",
       "</tr>\n",
       "<tr>\n",
       "  <th>x362</th>  <td>         0</td> <td>        0</td> <td>      nan</td> <td>   nan</td> <td>        0</td> <td>        0</td>\n",
       "</tr>\n",
       "<tr>\n",
       "  <th>x363</th>  <td>    0.0607</td> <td>    0.043</td> <td>    1.410</td> <td> 0.159</td> <td>   -0.024</td> <td>    0.145</td>\n",
       "</tr>\n",
       "</table>\n",
       "<table class=\"simpletable\">\n",
       "<tr>\n",
       "  <th>Omnibus:</th>       <td>756.769</td> <th>  Durbin-Watson:     </th> <td>   2.111</td>\n",
       "</tr>\n",
       "<tr>\n",
       "  <th>Prob(Omnibus):</th> <td> 0.000</td>  <th>  Jarque-Bera (JB):  </th> <td>8725.181</td>\n",
       "</tr>\n",
       "<tr>\n",
       "  <th>Skew:</th>          <td> 3.262</td>  <th>  Prob(JB):          </th> <td>    0.00</td>\n",
       "</tr>\n",
       "<tr>\n",
       "  <th>Kurtosis:</th>      <td>15.376</td>  <th>  Cond. No.          </th> <td>1.24e+16</td>\n",
       "</tr>\n",
       "</table><br/><br/>Warnings:<br/>[1] Standard Errors assume that the covariance matrix of the errors is correctly specified.<br/>[2] The smallest eigenvalue is 1.35e-19. This might indicate that there are<br/>strong multicollinearity problems or that the design matrix is singular."
      ],
      "text/plain": [
       "<class 'statsmodels.iolib.summary.Summary'>\n",
       "\"\"\"\n",
       "                            OLS Regression Results                            \n",
       "==============================================================================\n",
       "Dep. Variable:                charges   R-squared:                       0.848\n",
       "Model:                            OLS   Adj. R-squared:                  0.832\n",
       "Method:                 Least Squares   F-statistic:                     53.96\n",
       "Date:                Fri, 29 May 2020   Prob (F-statistic):               0.00\n",
       "Time:                        16:26:02   Log-Likelihood:                 480.68\n",
       "No. Observations:                1070   AIC:                            -759.4\n",
       "Df Residuals:                     969   BIC:                            -256.8\n",
       "Df Model:                         100                                         \n",
       "Covariance Type:            nonrobust                                         \n",
       "==============================================================================\n",
       "                 coef    std err          t      P>|t|      [0.025      0.975]\n",
       "------------------------------------------------------------------------------\n",
       "const          0.5121      0.093      5.531      0.000       0.330       0.694\n",
       "x1             0.0051      0.005      1.099      0.272      -0.004       0.014\n",
       "x2            -0.0036      0.012     -0.292      0.770      -0.027       0.020\n",
       "x3             0.0770      0.036      2.116      0.035       0.006       0.148\n",
       "x4             0.2874      0.054      5.359      0.000       0.182       0.393\n",
       "x5             0.2248      0.053      4.248      0.000       0.121       0.329\n",
       "x6             0.2316      0.052      4.468      0.000       0.130       0.333\n",
       "x7             0.2805      0.065      4.343      0.000       0.154       0.407\n",
       "x8             0.1453      0.041      3.547      0.000       0.065       0.226\n",
       "x9             0.1625      0.049      3.310      0.001       0.066       0.259\n",
       "x10            0.1436      0.060      2.401      0.017       0.026       0.261\n",
       "x11            0.0607      0.043      1.410      0.159      -0.024       0.145\n",
       "x12         9.725e-06      0.000      0.063      0.949      -0.000       0.000\n",
       "x13        -8.081e-05      0.000     -0.267      0.790      -0.001       0.001\n",
       "x14           -0.0051      0.001     -3.786      0.000      -0.008      -0.002\n",
       "x15           -0.0007      0.003     -0.255      0.799      -0.006       0.005\n",
       "x16            0.0058      0.003      2.301      0.022       0.001       0.011\n",
       "x17            0.0069      0.003      2.602      0.009       0.002       0.012\n",
       "x18           -0.0018      0.003     -0.614      0.539      -0.007       0.004\n",
       "x19            0.0008      0.002      0.408      0.684      -0.003       0.005\n",
       "x20           -0.0007      0.002     -0.318      0.750      -0.005       0.004\n",
       "x21            0.0011      0.002      0.470      0.639      -0.003       0.006\n",
       "x22            0.0039      0.002      1.779      0.076      -0.000       0.008\n",
       "x23            0.0006      0.001      0.916      0.360      -0.001       0.002\n",
       "x24            0.0005      0.003      0.157      0.875      -0.006       0.007\n",
       "x25           -0.0011      0.007     -0.155      0.877      -0.014       0.012\n",
       "x26           -0.0025      0.007     -0.373      0.709      -0.016       0.011\n",
       "x27           -0.0118      0.007     -1.745      0.081      -0.025       0.001\n",
       "x28            0.0082      0.008      1.089      0.277      -0.007       0.023\n",
       "x29           -0.0024      0.005     -0.479      0.632      -0.012       0.007\n",
       "x30           -0.0034      0.006     -0.569      0.569      -0.015       0.008\n",
       "x31           -0.0023      0.007     -0.311      0.756      -0.017       0.012\n",
       "x32            0.0045      0.006      0.804      0.422      -0.006       0.015\n",
       "x33           -0.0199      0.012     -1.620      0.106      -0.044       0.004\n",
       "x34            0.0412      0.021      1.928      0.054      -0.001       0.083\n",
       "x35            0.0358      0.021      1.719      0.086      -0.005       0.077\n",
       "x36            0.0688      0.022      3.077      0.002       0.025       0.113\n",
       "x37            0.0081      0.024      0.336      0.737      -0.039       0.056\n",
       "x38            0.0415      0.017      2.464      0.014       0.008       0.075\n",
       "x39            0.0221      0.020      1.085      0.278      -0.018       0.062\n",
       "x40            0.0108      0.021      0.506      0.613      -0.031       0.052\n",
       "x41            0.0026      0.021      0.126      0.900      -0.038       0.043\n",
       "x42            0.2874      0.054      5.359      0.000       0.182       0.393\n",
       "x43         1.144e-14   2.71e-15      4.226      0.000    6.13e-15    1.67e-14\n",
       "x44            0.1478      0.032      4.673      0.000       0.086       0.210\n",
       "x45            0.1396      0.036      3.890      0.000       0.069       0.210\n",
       "x46            0.0776      0.027      2.913      0.004       0.025       0.130\n",
       "x47            0.0977      0.032      3.068      0.002       0.035       0.160\n",
       "x48            0.0708      0.037      1.929      0.054      -0.001       0.143\n",
       "x49            0.0413      0.025      1.656      0.098      -0.008       0.090\n",
       "x50            0.2248      0.053      4.248      0.000       0.121       0.329\n",
       "x51            0.0838      0.030      2.802      0.005       0.025       0.143\n",
       "x52            0.1410      0.039      3.597      0.000       0.064       0.218\n",
       "x53            0.0678      0.024      2.783      0.005       0.020       0.116\n",
       "x54            0.0648      0.028      2.296      0.022       0.009       0.120\n",
       "x55            0.0728      0.034      2.127      0.034       0.006       0.140\n",
       "x56            0.0195      0.029      0.666      0.506      -0.038       0.077\n",
       "x57            0.2316      0.052      4.468      0.000       0.130       0.333\n",
       "x58         4.454e-15    9.9e-16      4.500      0.000    2.51e-15     6.4e-15\n",
       "x59            0.0491      0.027      1.806      0.071      -0.004       0.102\n",
       "x60            0.1083      0.029      3.699      0.000       0.051       0.166\n",
       "x61            0.0494      0.035      1.422      0.155      -0.019       0.118\n",
       "x62            0.0248      0.027      0.907      0.364      -0.029       0.078\n",
       "x63            0.2805      0.065      4.343      0.000       0.154       0.407\n",
       "x64            0.0963      0.027      3.597      0.000       0.044       0.149\n",
       "x65            0.0542      0.039      1.385      0.166      -0.023       0.131\n",
       "x66            0.0942      0.042      2.224      0.026       0.011       0.177\n",
       "x67            0.0359      0.036      1.007      0.314      -0.034       0.106\n",
       "x68            0.1453      0.041      3.547      0.000       0.065       0.226\n",
       "x69        -2.166e-15   6.13e-16     -3.531      0.000   -3.37e-15   -9.62e-16\n",
       "x70         7.606e-16   2.01e-16      3.787      0.000    3.66e-16    1.15e-15\n",
       "x71        -1.372e-15   3.58e-16     -3.830      0.000   -2.07e-15   -6.69e-16\n",
       "x72            0.1625      0.049      3.310      0.001       0.066       0.259\n",
       "x73         2.536e-16   2.09e-16      1.213      0.225   -1.57e-16    6.64e-16\n",
       "x74         7.871e-16   2.22e-16      3.546      0.000    3.52e-16    1.22e-15\n",
       "x75            0.1436      0.060      2.401      0.017       0.026       0.261\n",
       "x76        -3.482e-17   2.36e-16     -0.147      0.883   -4.99e-16    4.29e-16\n",
       "x77            0.0607      0.043      1.410      0.159      -0.024       0.145\n",
       "x78        -6.474e-07   2.68e-06     -0.242      0.809    -5.9e-06     4.6e-06\n",
       "x79        -2.133e-06   5.98e-06     -0.357      0.721   -1.39e-05    9.59e-06\n",
       "x80         8.839e-05   2.91e-05      3.037      0.002    3.13e-05       0.000\n",
       "x81         7.583e-05   8.44e-05      0.898      0.369   -8.98e-05       0.000\n",
       "x82        -6.611e-05   8.22e-05     -0.804      0.422      -0.000    9.53e-05\n",
       "x83        -6.372e-05   8.46e-05     -0.753      0.452      -0.000       0.000\n",
       "x84         7.344e-05   8.78e-05      0.836      0.403   -9.89e-05       0.000\n",
       "x85         3.639e-05   6.84e-05      0.532      0.595   -9.78e-05       0.000\n",
       "x86         7.445e-05   6.89e-05      1.080      0.280   -6.09e-05       0.000\n",
       "x87         4.939e-06   6.79e-05      0.073      0.942      -0.000       0.000\n",
       "x88           -0.0001   7.22e-05     -1.469      0.142      -0.000    3.56e-05\n",
       "x89         3.861e-06   8.78e-06      0.440      0.660   -1.34e-05    2.11e-05\n",
       "x90         4.411e-05   6.57e-05      0.671      0.502   -8.48e-05       0.000\n",
       "x91         2.859e-05      0.000      0.176      0.860      -0.000       0.000\n",
       "x92           -0.0001      0.000     -0.650      0.516      -0.000       0.000\n",
       "x93         8.069e-06      0.000      0.046      0.963      -0.000       0.000\n",
       "x94        -8.888e-05      0.000     -0.500      0.617      -0.000       0.000\n",
       "x95           -0.0001      0.000     -0.888      0.375      -0.000       0.000\n",
       "x96         4.977e-06      0.000      0.033      0.974      -0.000       0.000\n",
       "x97         7.213e-06      0.000      0.047      0.963      -0.000       0.000\n",
       "x98         2.178e-05      0.000      0.153      0.879      -0.000       0.000\n",
       "x99            0.0006      0.000      2.085      0.037    3.65e-05       0.001\n",
       "x100          -0.0023      0.001     -2.957      0.003      -0.004      -0.001\n",
       "x101          -0.0028      0.001     -3.826      0.000      -0.004      -0.001\n",
       "x102          -0.0038      0.001     -4.787      0.000      -0.005      -0.002\n",
       "x103          -0.0012      0.001     -1.542      0.123      -0.003       0.000\n",
       "x104          -0.0016      0.001     -2.606      0.009      -0.003      -0.000\n",
       "x105          -0.0020      0.001     -2.961      0.003      -0.003      -0.001\n",
       "x106          -0.0008      0.001     -1.161      0.246      -0.002       0.001\n",
       "x107          -0.0006      0.001     -0.851      0.395      -0.002       0.001\n",
       "x108          -0.0007      0.003     -0.255      0.799      -0.006       0.005\n",
       "x109                0          0        nan        nan           0           0\n",
       "x110           0.0017      0.002      1.110      0.267      -0.001       0.005\n",
       "x111          -0.0024      0.002     -1.482      0.139      -0.006       0.001\n",
       "x112        1.106e-05      0.001      0.008      0.993      -0.003       0.003\n",
       "x113          -0.0019      0.001     -1.355      0.176      -0.005       0.001\n",
       "x114           0.0004      0.001      0.302      0.763      -0.002       0.003\n",
       "x115           0.0008      0.001      0.568      0.570      -0.002       0.003\n",
       "x116           0.0058      0.003      2.301      0.022       0.001       0.011\n",
       "x117           0.0052      0.001      3.532      0.000       0.002       0.008\n",
       "x118           0.0006      0.002      0.386      0.699      -0.003       0.004\n",
       "x119           0.0008      0.001      0.713      0.476      -0.001       0.003\n",
       "x120           0.0012      0.001      0.890      0.374      -0.001       0.004\n",
       "x121           0.0007      0.001      0.492      0.623      -0.002       0.003\n",
       "x122           0.0032      0.001      2.451      0.014       0.001       0.006\n",
       "x123           0.0069      0.003      2.602      0.009       0.002       0.012\n",
       "x124                0          0        nan        nan           0           0\n",
       "x125           0.0006      0.001      0.452      0.651      -0.002       0.003\n",
       "x126       -8.786e-05      0.001     -0.063      0.950      -0.003       0.003\n",
       "x127           0.0023      0.001      1.693      0.091      -0.000       0.005\n",
       "x128           0.0040      0.001      2.979      0.003       0.001       0.007\n",
       "x129          -0.0018      0.003     -0.614      0.539      -0.007       0.004\n",
       "x130           0.0002      0.001      0.167      0.867      -0.002       0.003\n",
       "x131          -0.0006      0.002     -0.422      0.673      -0.004       0.002\n",
       "x132          -0.0013      0.002     -0.799      0.424      -0.004       0.002\n",
       "x133          -0.0001      0.002     -0.063      0.950      -0.003       0.003\n",
       "x134           0.0008      0.002      0.408      0.684      -0.003       0.005\n",
       "x135                0          0        nan        nan           0           0\n",
       "x136                0          0        nan        nan           0           0\n",
       "x137                0          0        nan        nan           0           0\n",
       "x138          -0.0007      0.002     -0.318      0.750      -0.005       0.004\n",
       "x139                0          0        nan        nan           0           0\n",
       "x140                0          0        nan        nan           0           0\n",
       "x141           0.0011      0.002      0.470      0.639      -0.003       0.006\n",
       "x142                0          0        nan        nan           0           0\n",
       "x143           0.0039      0.002      1.779      0.076      -0.000       0.008\n",
       "x144       -1.851e-05   1.53e-05     -1.211      0.226   -4.85e-05    1.15e-05\n",
       "x145        -5.25e-05      0.000     -0.467      0.640      -0.000       0.000\n",
       "x146           0.0002      0.000      0.631      0.528      -0.000       0.001\n",
       "x147           0.0004      0.000      1.071      0.285      -0.000       0.001\n",
       "x148           0.0005      0.000      1.424      0.155      -0.000       0.001\n",
       "x149        8.524e-05      0.000      0.233      0.816      -0.001       0.001\n",
       "x150           0.0003      0.000      1.266      0.206      -0.000       0.001\n",
       "x151           0.0002      0.000      0.782      0.434      -0.000       0.001\n",
       "x152           0.0002      0.000      0.446      0.656      -0.001       0.001\n",
       "x153          -0.0001      0.000     -0.373      0.709      -0.001       0.000\n",
       "x154           0.0002      0.001      0.286      0.775      -0.001       0.001\n",
       "x155          -0.0002      0.002     -0.104      0.917      -0.004       0.003\n",
       "x156           0.0007      0.002      0.382      0.703      -0.003       0.004\n",
       "x157           0.0007      0.002      0.357      0.721      -0.003       0.005\n",
       "x158          -0.0002      0.002     -0.100      0.920      -0.004       0.004\n",
       "x159          -0.0008      0.001     -0.535      0.593      -0.004       0.002\n",
       "x160           0.0017      0.002      0.973      0.331      -0.002       0.005\n",
       "x161          -0.0002      0.002     -0.135      0.893      -0.004       0.003\n",
       "x162          -0.0002      0.002     -0.112      0.911      -0.004       0.003\n",
       "x163          -0.0011      0.007     -0.155      0.877      -0.014       0.012\n",
       "x164                0          0        nan        nan           0           0\n",
       "x165          -0.0067      0.004     -1.682      0.093      -0.014       0.001\n",
       "x166           0.0056      0.004      1.334      0.183      -0.003       0.014\n",
       "x167          -0.0011      0.003     -0.346      0.730      -0.007       0.005\n",
       "x168          -0.0018      0.004     -0.473      0.637      -0.009       0.006\n",
       "x169          -0.0010      0.004     -0.231      0.817      -0.010       0.008\n",
       "x170           0.0028      0.003      0.888      0.375      -0.003       0.009\n",
       "x171          -0.0025      0.007     -0.373      0.709      -0.016       0.011\n",
       "x172          -0.0051      0.004     -1.385      0.166      -0.012       0.002\n",
       "x173           0.0026      0.004      0.610      0.542      -0.006       0.011\n",
       "x174          -0.0013      0.003     -0.452      0.651      -0.007       0.004\n",
       "x175          -0.0017      0.003     -0.496      0.620      -0.008       0.005\n",
       "x176          -0.0012      0.004     -0.321      0.748      -0.009       0.006\n",
       "x177           0.0017      0.004      0.485      0.627      -0.005       0.009\n",
       "x178          -0.0118      0.007     -1.745      0.081      -0.025       0.001\n",
       "x179                0          0        nan        nan           0           0\n",
       "x180          -0.0001      0.003     -0.034      0.973      -0.006       0.006\n",
       "x181          -0.0067      0.004     -1.859      0.063      -0.014       0.000\n",
       "x182          -0.0027      0.004     -0.647      0.518      -0.011       0.006\n",
       "x183          -0.0022      0.004     -0.624      0.533      -0.009       0.005\n",
       "x184           0.0082      0.008      1.089      0.277      -0.007       0.023\n",
       "x185          -0.0022      0.003     -0.701      0.484      -0.009       0.004\n",
       "x186           0.0033      0.004      0.746      0.456      -0.005       0.012\n",
       "x187           0.0005      0.005      0.103      0.918      -0.008       0.009\n",
       "x188           0.0067      0.004      1.727      0.085      -0.001       0.014\n",
       "x189          -0.0024      0.005     -0.479      0.632      -0.012       0.007\n",
       "x190                0          0        nan        nan           0           0\n",
       "x191                0          0        nan        nan           0           0\n",
       "x192                0          0        nan        nan           0           0\n",
       "x193          -0.0034      0.006     -0.569      0.569      -0.015       0.008\n",
       "x194                0          0        nan        nan           0           0\n",
       "x195                0          0        nan        nan           0           0\n",
       "x196          -0.0023      0.007     -0.311      0.756      -0.017       0.012\n",
       "x197                0          0        nan        nan           0           0\n",
       "x198           0.0045      0.006      0.804      0.422      -0.006       0.015\n",
       "x199           0.0028      0.002      1.149      0.251      -0.002       0.008\n",
       "x200          -0.0098      0.007     -1.411      0.158      -0.023       0.004\n",
       "x201          -0.0101      0.007     -1.453      0.147      -0.024       0.004\n",
       "x202          -0.0190      0.009     -2.228      0.026      -0.036      -0.002\n",
       "x203          -0.0008      0.008     -0.105      0.917      -0.017       0.015\n",
       "x204          -0.0129      0.007     -1.920      0.055      -0.026       0.000\n",
       "x205          -0.0086      0.007     -1.275      0.203      -0.022       0.005\n",
       "x206       -5.271e-05      0.007     -0.008      0.994      -0.013       0.013\n",
       "x207           0.0017      0.007      0.258      0.797      -0.011       0.015\n",
       "x208           0.0412      0.021      1.928      0.054      -0.001       0.083\n",
       "x209                0          0        nan        nan           0           0\n",
       "x210           0.0296      0.014      2.126      0.034       0.002       0.057\n",
       "x211           0.0116      0.014      0.826      0.409      -0.016       0.039\n",
       "x212           0.0207      0.012      1.785      0.075      -0.002       0.043\n",
       "x213           0.0209      0.013      1.633      0.103      -0.004       0.046\n",
       "x214          -0.0015      0.014     -0.108      0.914      -0.028       0.025\n",
       "x215           0.0010      0.013      0.077      0.939      -0.025       0.027\n",
       "x216           0.0358      0.021      1.719      0.086      -0.005       0.077\n",
       "x217           0.0393      0.014      2.873      0.004       0.012       0.066\n",
       "x218          -0.0035      0.015     -0.228      0.820      -0.033       0.026\n",
       "x219           0.0208      0.011      1.850      0.065      -0.001       0.043\n",
       "x220           0.0012      0.013      0.091      0.928      -0.025       0.027\n",
       "x221           0.0122      0.013      0.910      0.363      -0.014       0.039\n",
       "x222           0.0016      0.013      0.123      0.902      -0.024       0.027\n",
       "x223           0.0688      0.022      3.077      0.002       0.025       0.113\n",
       "x224                0          0        nan        nan           0           0\n",
       "x225           0.0370      0.013      2.763      0.006       0.011       0.063\n",
       "x226           0.0129      0.014      0.892      0.372      -0.015       0.041\n",
       "x227           0.0120      0.016      0.768      0.442      -0.019       0.042\n",
       "x228           0.0070      0.015      0.467      0.640      -0.022       0.037\n",
       "x229           0.0081      0.024      0.336      0.737      -0.039       0.056\n",
       "x230           0.0045      0.014      0.326      0.744      -0.023       0.032\n",
       "x231           0.0092      0.016      0.584      0.559      -0.022       0.040\n",
       "x232          -0.0012      0.015     -0.078      0.938      -0.031       0.029\n",
       "x233          -0.0044      0.015     -0.288      0.774      -0.035       0.026\n",
       "x234           0.0415      0.017      2.464      0.014       0.008       0.075\n",
       "x235                0          0        nan        nan           0           0\n",
       "x236                0          0        nan        nan           0           0\n",
       "x237                0          0        nan        nan           0           0\n",
       "x238           0.0221      0.020      1.085      0.278      -0.018       0.062\n",
       "x239                0          0        nan        nan           0           0\n",
       "x240                0          0        nan        nan           0           0\n",
       "x241           0.0108      0.021      0.506      0.613      -0.031       0.052\n",
       "x242                0          0        nan        nan           0           0\n",
       "x243           0.0026      0.021      0.126      0.900      -0.038       0.043\n",
       "x244           0.2874      0.054      5.359      0.000       0.182       0.393\n",
       "x245                0          0        nan        nan           0           0\n",
       "x246           0.1478      0.032      4.673      0.000       0.086       0.210\n",
       "x247           0.1396      0.036      3.890      0.000       0.069       0.210\n",
       "x248           0.0776      0.027      2.913      0.004       0.025       0.130\n",
       "x249           0.0977      0.032      3.068      0.002       0.035       0.160\n",
       "x250           0.0708      0.037      1.929      0.054      -0.001       0.143\n",
       "x251           0.0413      0.025      1.656      0.098      -0.008       0.090\n",
       "x252                0          0        nan        nan           0           0\n",
       "x253                0          0        nan        nan           0           0\n",
       "x254                0          0        nan        nan           0           0\n",
       "x255                0          0        nan        nan           0           0\n",
       "x256                0          0        nan        nan           0           0\n",
       "x257                0          0        nan        nan           0           0\n",
       "x258                0          0        nan        nan           0           0\n",
       "x259           0.1478      0.032      4.673      0.000       0.086       0.210\n",
       "x260                0          0        nan        nan           0           0\n",
       "x261           0.0369      0.020      1.807      0.071      -0.003       0.077\n",
       "x262           0.0474      0.021      2.277      0.023       0.007       0.088\n",
       "x263           0.0401      0.023      1.740      0.082      -0.005       0.085\n",
       "x264           0.0233      0.019      1.255      0.210      -0.013       0.060\n",
       "x265           0.1396      0.036      3.890      0.000       0.069       0.210\n",
       "x266           0.0406      0.019      2.161      0.031       0.004       0.078\n",
       "x267           0.0503      0.025      2.009      0.045       0.001       0.099\n",
       "x268           0.0307      0.027      1.122      0.262      -0.023       0.084\n",
       "x269           0.0180      0.022      0.834      0.405      -0.024       0.060\n",
       "x270           0.0776      0.027      2.913      0.004       0.025       0.130\n",
       "x271                0          0        nan        nan           0           0\n",
       "x272                0          0        nan        nan           0           0\n",
       "x273                0          0        nan        nan           0           0\n",
       "x274           0.0977      0.032      3.068      0.002       0.035       0.160\n",
       "x275                0          0        nan        nan           0           0\n",
       "x276                0          0        nan        nan           0           0\n",
       "x277           0.0708      0.037      1.929      0.054      -0.001       0.143\n",
       "x278                0          0        nan        nan           0           0\n",
       "x279           0.0413      0.025      1.656      0.098      -0.008       0.090\n",
       "x280           0.2248      0.053      4.248      0.000       0.121       0.329\n",
       "x281           0.0838      0.030      2.802      0.005       0.025       0.143\n",
       "x282           0.1410      0.039      3.597      0.000       0.064       0.218\n",
       "x283           0.0678      0.024      2.783      0.005       0.020       0.116\n",
       "x284           0.0648      0.028      2.296      0.022       0.009       0.120\n",
       "x285           0.0728      0.034      2.127      0.034       0.006       0.140\n",
       "x286           0.0195      0.029      0.666      0.506      -0.038       0.077\n",
       "x287           0.0838      0.030      2.802      0.005       0.025       0.143\n",
       "x288                0          0        nan        nan           0           0\n",
       "x289           0.0122      0.018      0.670      0.503      -0.023       0.048\n",
       "x290           0.0609      0.021      2.917      0.004       0.020       0.102\n",
       "x291           0.0093      0.023      0.409      0.682      -0.035       0.054\n",
       "x292           0.0015      0.020      0.072      0.942      -0.039       0.042\n",
       "x293           0.1410      0.039      3.597      0.000       0.064       0.218\n",
       "x294           0.0556      0.021      2.701      0.007       0.015       0.096\n",
       "x295           0.0039      0.026      0.153      0.878      -0.046       0.054\n",
       "x296           0.0634      0.026      2.464      0.014       0.013       0.114\n",
       "x297           0.0180      0.027      0.674      0.501      -0.034       0.070\n",
       "x298           0.0678      0.024      2.783      0.005       0.020       0.116\n",
       "x299                0          0        nan        nan           0           0\n",
       "x300                0          0        nan        nan           0           0\n",
       "x301                0          0        nan        nan           0           0\n",
       "x302           0.0648      0.028      2.296      0.022       0.009       0.120\n",
       "x303                0          0        nan        nan           0           0\n",
       "x304                0          0        nan        nan           0           0\n",
       "x305           0.0728      0.034      2.127      0.034       0.006       0.140\n",
       "x306                0          0        nan        nan           0           0\n",
       "x307           0.0195      0.029      0.666      0.506      -0.038       0.077\n",
       "x308           0.2316      0.052      4.468      0.000       0.130       0.333\n",
       "x309                0          0        nan        nan           0           0\n",
       "x310           0.0491      0.027      1.806      0.071      -0.004       0.102\n",
       "x311           0.1083      0.029      3.699      0.000       0.051       0.166\n",
       "x312           0.0494      0.035      1.422      0.155      -0.019       0.118\n",
       "x313           0.0248      0.027      0.907      0.364      -0.029       0.078\n",
       "x314                0          0        nan        nan           0           0\n",
       "x315                0          0        nan        nan           0           0\n",
       "x316                0          0        nan        nan           0           0\n",
       "x317                0          0        nan        nan           0           0\n",
       "x318                0          0        nan        nan           0           0\n",
       "x319           0.0491      0.027      1.806      0.071      -0.004       0.102\n",
       "x320                0          0        nan        nan           0           0\n",
       "x321                0          0        nan        nan           0           0\n",
       "x322                0          0        nan        nan           0           0\n",
       "x323           0.1083      0.029      3.699      0.000       0.051       0.166\n",
       "x324                0          0        nan        nan           0           0\n",
       "x325                0          0        nan        nan           0           0\n",
       "x326           0.0494      0.035      1.422      0.155      -0.019       0.118\n",
       "x327                0          0        nan        nan           0           0\n",
       "x328           0.0248      0.027      0.907      0.364      -0.029       0.078\n",
       "x329           0.2805      0.065      4.343      0.000       0.154       0.407\n",
       "x330           0.0963      0.027      3.597      0.000       0.044       0.149\n",
       "x331           0.0542      0.039      1.385      0.166      -0.023       0.131\n",
       "x332           0.0942      0.042      2.224      0.026       0.011       0.177\n",
       "x333           0.0359      0.036      1.007      0.314      -0.034       0.106\n",
       "x334           0.0963      0.027      3.597      0.000       0.044       0.149\n",
       "x335                0          0        nan        nan           0           0\n",
       "x336                0          0        nan        nan           0           0\n",
       "x337                0          0        nan        nan           0           0\n",
       "x338           0.0542      0.039      1.385      0.166      -0.023       0.131\n",
       "x339                0          0        nan        nan           0           0\n",
       "x340                0          0        nan        nan           0           0\n",
       "x341           0.0942      0.042      2.224      0.026       0.011       0.177\n",
       "x342                0          0        nan        nan           0           0\n",
       "x343           0.0359      0.036      1.007      0.314      -0.034       0.106\n",
       "x344           0.1453      0.041      3.547      0.000       0.065       0.226\n",
       "x345                0          0        nan        nan           0           0\n",
       "x346                0          0        nan        nan           0           0\n",
       "x347                0          0        nan        nan           0           0\n",
       "x348                0          0        nan        nan           0           0\n",
       "x349                0          0        nan        nan           0           0\n",
       "x350                0          0        nan        nan           0           0\n",
       "x351                0          0        nan        nan           0           0\n",
       "x352                0          0        nan        nan           0           0\n",
       "x353                0          0        nan        nan           0           0\n",
       "x354           0.1625      0.049      3.310      0.001       0.066       0.259\n",
       "x355                0          0        nan        nan           0           0\n",
       "x356                0          0        nan        nan           0           0\n",
       "x357                0          0        nan        nan           0           0\n",
       "x358                0          0        nan        nan           0           0\n",
       "x359                0          0        nan        nan           0           0\n",
       "x360           0.1436      0.060      2.401      0.017       0.026       0.261\n",
       "x361                0          0        nan        nan           0           0\n",
       "x362                0          0        nan        nan           0           0\n",
       "x363           0.0607      0.043      1.410      0.159      -0.024       0.145\n",
       "==============================================================================\n",
       "Omnibus:                      756.769   Durbin-Watson:                   2.111\n",
       "Prob(Omnibus):                  0.000   Jarque-Bera (JB):             8725.181\n",
       "Skew:                           3.262   Prob(JB):                         0.00\n",
       "Kurtosis:                      15.376   Cond. No.                     1.24e+16\n",
       "==============================================================================\n",
       "\n",
       "Warnings:\n",
       "[1] Standard Errors assume that the covariance matrix of the errors is correctly specified.\n",
       "[2] The smallest eigenvalue is 1.35e-19. This might indicate that there are\n",
       "strong multicollinearity problems or that the design matrix is singular.\n",
       "\"\"\""
      ]
     },
     "execution_count": 57,
     "metadata": {},
     "output_type": "execute_result"
    }
   ],
   "source": [
    "olsres.summary()"
   ]
  },
  {
   "cell_type": "code",
   "execution_count": 58,
   "metadata": {},
   "outputs": [
    {
     "data": {
      "text/plain": [
       "(array([  6.,   6.,   7.,  17., 204.,  24.,   2.,   1.,   0.,   1.]),\n",
       " array([-21949.74519887, -17128.85056952, -12307.95594017,  -7487.06131081,\n",
       "         -2666.16668146,   2154.72794789,   6975.62257725,  11796.5172066 ,\n",
       "         16617.41183595,  21438.30646531,  26259.20109466]),\n",
       " <a list of 10 Patch objects>)"
      ]
     },
     "execution_count": 58,
     "metadata": {},
     "output_type": "execute_result"
    },
    {
     "data": {
      "image/png": "[encoded data removed]",
      "text/plain": [
       "<Figure size 432x288 with 1 Axes>"
      ]
     },
     "metadata": {
      "needs_background": "light"
     },
     "output_type": "display_data"
    }
   ],
   "source": [
    "plt.hist(10**y_pred - y_test)"
   ]
  }
 ],
 "metadata": {
  "kernelspec": {
   "display_name": "Python 3",
   "language": "python",
   "name": "python3"
  },
  "language_info": {
   "codemirror_mode": {
    "name": "ipython",
    "version": 3
   },
   "file_extension": ".py",
   "mimetype": "text/x-python",
   "name": "python",
   "nbconvert_exporter": "python",
   "pygments_lexer": "ipython3",
   "version": "3.7.3"
  }
 },
 "nbformat": 4,
 "nbformat_minor": 4
}
