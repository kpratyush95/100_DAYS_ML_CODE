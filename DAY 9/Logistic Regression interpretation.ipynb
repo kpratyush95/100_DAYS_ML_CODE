{
 "cells": [
  {
   "cell_type": "code",
   "execution_count": 1,
   "metadata": {},
   "outputs": [],
   "source": [
    "import numpy as np\n",
    "import matplotlib.pyplot as plt\n",
    "import seaborn as sns"
   ]
  },
  {
   "cell_type": "code",
   "execution_count": 2,
   "metadata": {},
   "outputs": [],
   "source": [
    "def sigmoid(z):\n",
    "    return 1/(1+np.exp(-z))"
   ]
  },
  {
   "cell_type": "code",
   "execution_count": 3,
   "metadata": {},
   "outputs": [
    {
     "name": "stdout",
     "output_type": "stream",
     "text": [
      "i =  -10 sigmoid = 4.5397868702434395e-05\n",
      "i =  -9 sigmoid = 0.00012339457598623172\n",
      "i =  -8 sigmoid = 0.0003353501304664781\n",
      "i =  -7 sigmoid = 0.0009110511944006454\n",
      "i =  -6 sigmoid = 0.0024726231566347743\n",
      "i =  -5 sigmoid = 0.0066928509242848554\n",
      "i =  -4 sigmoid = 0.01798620996209156\n",
      "i =  -3 sigmoid = 0.04742587317756678\n",
      "i =  -2 sigmoid = 0.11920292202211755\n",
      "i =  -1 sigmoid = 0.2689414213699951\n",
      "i =  0 sigmoid = 0.5\n",
      "i =  1 sigmoid = 0.7310585786300049\n",
      "i =  2 sigmoid = 0.8807970779778823\n",
      "i =  3 sigmoid = 0.9525741268224334\n",
      "i =  4 sigmoid = 0.9820137900379085\n",
      "i =  5 sigmoid = 0.9933071490757153\n",
      "i =  6 sigmoid = 0.9975273768433653\n",
      "i =  7 sigmoid = 0.9990889488055994\n",
      "i =  8 sigmoid = 0.9996646498695336\n",
      "i =  9 sigmoid = 0.9998766054240137\n",
      "i =  10 sigmoid = 0.9999546021312976\n"
     ]
    }
   ],
   "source": [
    "sig = []\n",
    "itr = []\n",
    "for i in range(-10,11):\n",
    "    print(\"i = \",i,\"sigmoid =\", (sigmoid(i)))\n",
    "    sig.append(sigmoid(i))\n",
    "    itr.append(i)"
   ]
  },
  {
   "cell_type": "code",
   "execution_count": 4,
   "metadata": {},
   "outputs": [
    {
     "data": {
      "text/plain": [
       "[<matplotlib.lines.Line2D at 0x20719ee8c88>]"
      ]
     },
     "execution_count": 4,
     "metadata": {},
     "output_type": "execute_result"
    },
    {
     "data": {
      "image/png": "[encoded data removed]",
      "text/plain": [
       "<Figure size 432x288 with 1 Axes>"
      ]
     },
     "metadata": {
      "needs_background": "light"
     },
     "output_type": "display_data"
    }
   ],
   "source": [
    "plt.plot(itr, sig)"
   ]
  },
  {
   "cell_type": "code",
   "execution_count": 5,
   "metadata": {},
   "outputs": [],
   "source": [
    "def log(y, pred_y):\n",
    "    return (y * np.log(pred_y)) + ((1 - y) * np.log(1 - pred_y)) "
   ]
  },
  {
   "cell_type": "code",
   "execution_count": 6,
   "metadata": {},
   "outputs": [],
   "source": [
    "y = [0,1]"
   ]
  },
  {
   "cell_type": "code",
   "execution_count": 7,
   "metadata": {},
   "outputs": [
    {
     "name": "stdout",
     "output_type": "stream",
     "text": [
      "y = 0 \n",
      " y_pred = 4.5397868702434395e-05 \n",
      "Log = -4.539889921682063e-05\n",
      "y = 0 \n",
      " y_pred = 0.00012339457598623172 \n",
      "Log = -0.00012340218972322915\n",
      "y = 0 \n",
      " y_pred = 0.0003353501304664781 \n",
      "Log = -0.00033540637289577373\n",
      "y = 0 \n",
      " y_pred = 0.0009110511944006454 \n",
      "Log = -0.0009114664537742021\n",
      "y = 0 \n",
      " y_pred = 0.0024726231566347743 \n",
      "Log = -0.002475685137730443\n",
      "y = 0 \n",
      " y_pred = 0.0066928509242848554 \n",
      "Log = -0.006715348489118056\n",
      "y = 0 \n",
      " y_pred = 0.01798620996209156 \n",
      "Log = -0.01814992791780973\n",
      "y = 0 \n",
      " y_pred = 0.04742587317756678 \n",
      "Log = -0.04858735157374202\n",
      "y = 0 \n",
      " y_pred = 0.11920292202211755 \n",
      "Log = -0.12692801104297252\n",
      "y = 0 \n",
      " y_pred = 0.2689414213699951 \n",
      "Log = -0.3132616875182228\n",
      "y = 0 \n",
      " y_pred = 0.5 \n",
      "Log = -0.6931471805599453\n",
      "y = 0 \n",
      " y_pred = 0.7310585786300049 \n",
      "Log = -1.3132616875182228\n",
      "y = 0 \n",
      " y_pred = 0.8807970779778823 \n",
      "Log = -2.1269280110429714\n",
      "y = 0 \n",
      " y_pred = 0.9525741268224334 \n",
      "Log = -3.048587351573745\n",
      "y = 0 \n",
      " y_pred = 0.9820137900379085 \n",
      "Log = -4.01814992791781\n",
      "y = 0 \n",
      " y_pred = 0.9933071490757153 \n",
      "Log = -5.006715348489137\n",
      "y = 0 \n",
      " y_pred = 0.9975273768433653 \n",
      "Log = -6.002475685137778\n",
      "y = 0 \n",
      " y_pred = 0.9990889488055994 \n",
      "Log = -7.000911466453821\n",
      "y = 0 \n",
      " y_pred = 0.9996646498695336 \n",
      "Log = -8.000335406373212\n",
      "y = 0 \n",
      " y_pred = 0.9998766054240137 \n",
      "Log = -9.000123402189065\n",
      "y = 0 \n",
      " y_pred = 0.9999546021312976 \n",
      "Log = -10.000045398900186\n",
      "y = 1 \n",
      " y_pred = 4.5397868702434395e-05 \n",
      "Log = -10.000045398899218\n",
      "y = 1 \n",
      " y_pred = 0.00012339457598623172 \n",
      "Log = -9.000123402189724\n",
      "y = 1 \n",
      " y_pred = 0.0003353501304664781 \n",
      "Log = -8.000335406372896\n",
      "y = 1 \n",
      " y_pred = 0.0009110511944006454 \n",
      "Log = -7.000911466453775\n",
      "y = 1 \n",
      " y_pred = 0.0024726231566347743 \n",
      "Log = -6.00247568513773\n",
      "y = 1 \n",
      " y_pred = 0.0066928509242848554 \n",
      "Log = -5.006715348489118\n",
      "y = 1 \n",
      " y_pred = 0.01798620996209156 \n",
      "Log = -4.0181499279178094\n",
      "y = 1 \n",
      " y_pred = 0.04742587317756678 \n",
      "Log = -3.048587351573742\n",
      "y = 1 \n",
      " y_pred = 0.11920292202211755 \n",
      "Log = -2.1269280110429727\n",
      "y = 1 \n",
      " y_pred = 0.2689414213699951 \n",
      "Log = -1.3132616875182228\n",
      "y = 1 \n",
      " y_pred = 0.5 \n",
      "Log = -0.6931471805599453\n",
      "y = 1 \n",
      " y_pred = 0.7310585786300049 \n",
      "Log = -0.3132616875182228\n",
      "y = 1 \n",
      " y_pred = 0.8807970779778823 \n",
      "Log = -0.12692801104297263\n",
      "y = 1 \n",
      " y_pred = 0.9525741268224334 \n",
      "Log = -0.04858735157374191\n",
      "y = 1 \n",
      " y_pred = 0.9820137900379085 \n",
      "Log = -0.01814992791780973\n",
      "y = 1 \n",
      " y_pred = 0.9933071490757153 \n",
      "Log = -0.006715348489117944\n",
      "y = 1 \n",
      " y_pred = 0.9975273768433653 \n",
      "Log = -0.0024756851377303315\n",
      "y = 1 \n",
      " y_pred = 0.9990889488055994 \n",
      "Log = -0.0009114664537742021\n",
      "y = 1 \n",
      " y_pred = 0.9996646498695336 \n",
      "Log = -0.00033540637289566265\n",
      "y = 1 \n",
      " y_pred = 0.9998766054240137 \n",
      "Log = -0.0001234021897233402\n",
      "y = 1 \n",
      " y_pred = 0.9999546021312976 \n",
      "Log = -4.539889921682063e-05\n"
     ]
    }
   ],
   "source": [
    "y_loop = []\n",
    "y_pred = []\n",
    "log_val = []\n",
    "for i in y:\n",
    "    for j in sig:\n",
    "        print(\"y =\",i,\"\\n y_pred =\",j,\"\\nLog =\",log(i,j))\n",
    "        \n",
    "        y_loop.append(i)\n",
    "        y_pred.append(j)\n",
    "        log_val.append(log(i,j))"
   ]
  },
  {
   "cell_type": "code",
   "execution_count": 9,
   "metadata": {
    "scrolled": true
   },
   "outputs": [
    {
     "data": {
      "image/png": "[encoded data removed]",
      "text/plain": [
       "<Figure size 432x288 with 1 Axes>"
      ]
     },
     "metadata": {
      "needs_background": "light"
     },
     "output_type": "display_data"
    }
   ],
   "source": [
    "ax = sns.scatterplot(x=y_pred, y=log_val,hue=y_loop)\n",
    "ax.set(xlabel='Predicted value', ylabel='Penalizing value')\n",
    "plt.show()"
   ]
  },
  {
   "cell_type": "markdown",
   "metadata": {},
   "source": [
    "# Graph interpretation"
   ]
  },
  {
   "cell_type": "markdown",
   "metadata": {},
   "source": [
    "•\tif predicted value is close to 1 and y is 1 than cost is almost 0. <br>\n",
    "•\tif predicted value is close to 0 and y is 0 than cost is almost 0. <br>\n",
    "•\tif predicted value is close to 1 and y is 0 than cost is high. <br>\n",
    "•\tif predicted value is close to 0 and y is 1 than cost is high. "
   ]
  }
 ],
 "metadata": {
  "kernelspec": {
   "display_name": "Python 3",
   "language": "python",
   "name": "python3"
  },
  "language_info": {
   "codemirror_mode": {
    "name": "ipython",
    "version": 3
   },
   "file_extension": ".py",
   "mimetype": "text/x-python",
   "name": "python",
   "nbconvert_exporter": "python",
   "pygments_lexer": "ipython3",
   "version": "3.7.3"
  }
 },
 "nbformat": 4,
 "nbformat_minor": 4
}
